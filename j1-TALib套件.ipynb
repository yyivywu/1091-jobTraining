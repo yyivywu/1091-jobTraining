{
 "cells": [
  {
   "cell_type": "markdown",
   "metadata": {},
   "source": [
    "# TALib 套件安裝\n",
    "\n",
    "TA-Lib (Technical Analysis Library)，提供超過 150 種技術指標計算函式\n",
    "\n",
    "官網：https://github.com/mrjbq7/ta-lib"
   ]
  },
  {
   "cell_type": "code",
   "execution_count": 1,
   "metadata": {},
   "outputs": [],
   "source": [
    "# 查詢 python 版本，依版本安裝相對應的 Ta-Lib package\n",
    "\n",
    "import sys\n",
    "sys.version"
   ]
  },
  {
   "cell_type": "markdown",
   "metadata": {},
   "source": [
    "# 認識 TALib 套件\n",
    "\n",
    "官網文件：http://mrjbq7.github.io/ta-lib/doc_index.html\n",
    "\n",
    "TA-Lib 有兩種使用方式：Function API & Abstract API"
   ]
  },
  {
   "cell_type": "code",
   "execution_count": 2,
   "metadata": {},
   "outputs": [],
   "source": [
    "import talib\n",
    "import pandas as pd\n",
    "\n",
    "# 透過『get_functions』函式，查看 TA-Lib 提供的技術指標\n",
    "all_ta_label = talib.get_functions()\n",
    "\n",
    "# 查看清單\n",
    "print('技術指標個數: ', len(all_ta_label))  # 技術指標個數\n",
    "#all_ta_label\n",
    "\n",
    "# 透過『get_function_groups』，取得分類後的技術指標清單\n",
    "all_ta_groups = talib.get_function_groups()\n",
    "\n",
    "# 查看所有類別的指標數量\n",
    "table = pd.DataFrame({\n",
    "            '技術指標類別': list(all_ta_groups.keys()),\n",
    "            '指標總數': list(map(lambda x: len(x), all_ta_groups.values()))\n",
    "        })\n",
    "table\n",
    "\n",
    "# 查看各類別指標\n",
    "#print(len(all_ta_groups))\n",
    "#print(all_ta_groups)\n",
    "\n",
    "# 查看某類別下的技術指標清單\n",
    "#print(all_ta_groups['Momentum Indicators'])"
   ]
  },
  {
   "cell_type": "markdown",
   "metadata": {},
   "source": [
    "# 讀取股價資料\n",
    "\n",
    "計算技術指標通常需要以下資料：開盤價 open、最高價 high、最低價 low、收盤價 close，以及成交量 volume"
   ]
  },
  {
   "cell_type": "code",
   "execution_count": 4,
   "metadata": {},
   "outputs": [],
   "source": [
    "import sqlite3, os\n",
    "import pandas as pd\n",
    "import matplotlib.pyplot as plt\n",
    "%matplotlib inline"
   ]
  },
  {
   "cell_type": "code",
   "execution_count": 5,
   "metadata": {},
   "outputs": [],
   "source": [
    "# 建立資料庫連結\n",
    "conn = sqlite3.connect(os.path.join('data', 'data.db'))\n",
    "\n",
    "# 取 0050 近五年股價資料\n",
    "sqlstr = \"select sid,date,開盤價,最高價,最低價,收盤價,成交股數 \\\n",
    "          from price where sid='0050' and date>datetime('2015-01-01')\"\n",
    "\n",
    "# 使用 parse_dates 參數轉換資料格式\n",
    "df = pd.read_sql(sqlstr, conn, index_col='date', parse_dates='date')"
   ]
  },
  {
   "cell_type": "code",
   "execution_count": null,
   "metadata": {},
   "outputs": [],
   "source": [
    "df.drop_duplicates(inplace=True)  # 刪除重覆資料"
   ]
  },
  {
   "cell_type": "code",
   "execution_count": 6,
   "metadata": {},
   "outputs": [],
   "source": [
    "# 修改 columns 名稱：中文轉換成英文\n",
    "\n",
    "df.rename(columns={'開盤價':'open', '收盤價':'close', '最高價':'high',\n",
    "                    '最低價':'low', '成交股數':'volume'}, inplace=True)\n",
    "df.tail(10)"
   ]
  },
  {
   "cell_type": "code",
   "execution_count": 7,
   "metadata": {},
   "outputs": [],
   "source": [
    "# 分別取出每一條資料值\n",
    "\n",
    "Open = df['open']\n",
    "High = df['high']\n",
    "Low = df['low']\n",
    "Close = df['close']\n",
    "Volume = df['volume']"
   ]
  },
  {
   "cell_type": "markdown",
   "metadata": {},
   "source": [
    "# TALib - Function API"
   ]
  },
  {
   "cell_type": "code",
   "execution_count": 8,
   "metadata": {},
   "outputs": [],
   "source": [
    "import talib"
   ]
  },
  {
   "cell_type": "code",
   "execution_count": 27,
   "metadata": {},
   "outputs": [
    {
     "name": "stdout",
     "output_type": "stream",
     "text": [
      "Help on function SMA in module talib._ta_lib:\n",
      "\n",
      "SMA(...)\n",
      "    SMA(real[, timeperiod=?])\n",
      "    \n",
      "    Simple Moving Average (Overlap Studies)\n",
      "    \n",
      "    Inputs:\n",
      "        real: (any ndarray)\n",
      "    Parameters:\n",
      "        timeperiod: 30\n",
      "    Outputs:\n",
      "        real\n",
      "\n"
     ]
    }
   ],
   "source": [
    "# 查看函式說明\n",
    "\n",
    "help(talib.SMA)\n",
    "#help(talib.STOCH)"
   ]
  },
  {
   "cell_type": "code",
   "execution_count": 9,
   "metadata": {},
   "outputs": [],
   "source": [
    "# SMA - Simple Moving Average\n",
    "# real = SMA(close, timeperiod=30)\n",
    "\n",
    "SMA = talib.SMA(Close)\n",
    "#SMA = talib.SMA(Close, timeperiod=10)  # 改變函式預設的參數值\n",
    "SMA"
   ]
  },
  {
   "cell_type": "code",
   "execution_count": 10,
   "metadata": {},
   "outputs": [],
   "source": [
    "# STOCH - Stochastic\n",
    "# slowk, slowd = STOCH(high, low, close, fastk_period=5, slowk_period=3, slowk_matype=0, slowd_period=3, slowd_matype=0)\n",
    "\n",
    "K, D = talib.STOCH(High,Low,Close,fastk_period=9, slowk_period=3, slowk_matype=0, slowd_period=3, slowd_matype=0)\n",
    "D.head(20)"
   ]
  },
  {
   "cell_type": "markdown",
   "metadata": {},
   "source": [
    "# TALib - Abstract API"
   ]
  },
  {
   "cell_type": "code",
   "execution_count": 11,
   "metadata": {},
   "outputs": [],
   "source": [
    "from talib import abstract"
   ]
  },
  {
   "cell_type": "code",
   "execution_count": 40,
   "metadata": {},
   "outputs": [
    {
     "name": "stdout",
     "output_type": "stream",
     "text": [
      "RSI([input_arrays], [timeperiod=14])\n",
      "\n",
      "Relative Strength Index (Momentum Indicators)\n",
      "\n",
      "Inputs:\n",
      "    price: (any ndarray)\n",
      "Parameters:\n",
      "    timeperiod: 14\n",
      "Outputs:\n",
      "    real\n"
     ]
    }
   ],
   "source": [
    "# 查看函式說明\n",
    "\n",
    "print(abstract.RSI)"
   ]
  },
  {
   "cell_type": "code",
   "execution_count": 12,
   "metadata": {},
   "outputs": [],
   "source": [
    "# SMA: 簡單移動平均線，跟股價雷同\n",
    "\n",
    "#SMA = abstract.SMA(df)\n",
    "SMA = abstract.SMA(df, timeperiod=5)  # 改變函式預設的參數值\n",
    "SMA.plot(figsize=(12, 6), label=\"5MA\")\n",
    "#SMA.tail(100).plot(figsize=(12, 6), label=\"5MA\")\n",
    "#Close.tail(100).plot()  # 收盤價\n",
    "plt.ylabel('price', fontsize=12)\n",
    "plt.xlabel('date', fontsize=12)\n",
    "plt.legend(loc='upper left', fontsize=10)  # best, upper, lower, center, left, right"
   ]
  },
  {
   "cell_type": "code",
   "execution_count": 13,
   "metadata": {},
   "outputs": [],
   "source": [
    "# RSI: Relative Strength Index，介於 0~100 之間\n",
    "# RSI 低股價低，可進行買入動作\n",
    "\n",
    "abstract.RSI(df).plot(label='RSI', figsize=(12, 6))\n",
    "#abstract.RSI(df)['2019'].plot(label='RSI')\n",
    "plt.legend(loc='upper left')\n",
    "df['close'].plot(secondary_y = True)  # 將股價設為副座標\n",
    "#df['close']['2019'].plot(secondary_y = True)\n",
    "plt.legend(loc='lower right')"
   ]
  },
  {
   "cell_type": "code",
   "execution_count": 14,
   "metadata": {},
   "outputs": [],
   "source": [
    "# KD值：STOCH, Stochastic，有兩條線 K & D\n",
    "# K 走得比 D 快，K>D 黃金交叉、K<D 死亡交叉\n",
    "\n",
    "abstract.STOCH(df)['2019':].plot(figsize=(12, 6))\n",
    "df['close']['2019':].plot(secondary_y = True)\n",
    "plt.legend()"
   ]
  },
  {
   "cell_type": "markdown",
   "metadata": {},
   "source": [
    "# 打造看盤軟體"
   ]
  },
  {
   "cell_type": "code",
   "execution_count": 15,
   "metadata": {},
   "outputs": [],
   "source": [
    "# 計算指標\n",
    "\n",
    "SMA = abstract.SMA(df)\n",
    "RSI = abstract.RSI(df)\n",
    "STOCH = abstract.STOCH(df)\n",
    "\n",
    "# 繪製圖表\n",
    "plt.rcParams['figure.figsize'] = (10, 10)\n",
    "\n",
    "fig, axes = plt.subplots(nrows=5, sharex=True)\n",
    "\n",
    "df['close'].tail(200).plot(ax=axes[0])\n",
    "axes[0].set_title('Close', fontsize=14)\n",
    "df['volume'].tail(200).plot(ax=axes[1])\n",
    "axes[1].set_title('Volume', fontsize=14)\n",
    "STOCH.tail(200).plot(ax=axes[2])\n",
    "axes[2].set_title('KD', fontsize=14)\n",
    "SMA.tail(200).plot(ax=axes[3])\n",
    "axes[3].set_title('SMA', fontsize=14)\n",
    "RSI.tail(200).plot(ax=axes[4])\n",
    "axes[4].set_title('RSI', fontsize=14)\n",
    "plt.tight_layout()"
   ]
  },
  {
   "cell_type": "code",
   "execution_count": null,
   "metadata": {},
   "outputs": [],
   "source": []
  }
 ],
 "metadata": {
  "kernelspec": {
   "display_name": "Python 3",
   "language": "python",
   "name": "python3"
  },
  "language_info": {
   "codemirror_mode": {
    "name": "ipython",
    "version": 3
   },
   "file_extension": ".py",
   "mimetype": "text/x-python",
   "name": "python",
   "nbconvert_exporter": "python",
   "pygments_lexer": "ipython3",
   "version": "3.7.3"
  }
 },
 "nbformat": 4,
 "nbformat_minor": 2
}
