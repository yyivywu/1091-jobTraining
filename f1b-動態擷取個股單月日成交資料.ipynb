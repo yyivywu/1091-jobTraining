{
 "cells": [
  {
   "cell_type": "markdown",
   "metadata": {},
   "source": [
    "# 動態擷取台股單一個股日成交資訊及存檔\n",
    "\n",
    "資料來源：[台灣證券交易所/個股日成交資訊](https://www.twse.com.tw/zh/page/trading/exchange/STOCK_DAY.html)\n",
    "\n",
    "回傳資料網址：[Json 格式](https://www.twse.com.tw/exchangeReport/STOCK_DAY?response=json&date=20200101&stockNo=2330)、[HTML 格式](https://www.twse.com.tw/exchangeReport/STOCK_DAY?response=html&date=20200101&stockNo=2330)、[CSV 格式](https://www.twse.com.tw/exchangeReport/STOCK_DAY?response=csv&date=20200101&stockNo=2330)\n"
   ]
  },
  {
   "cell_type": "code",
   "execution_count": 6,
   "metadata": {},
   "outputs": [],
   "source": [
    "# 匯入套件\n",
    "import requests, json, csv"
   ]
  },
  {
   "cell_type": "code",
   "execution_count": 7,
   "metadata": {},
   "outputs": [
    {
     "name": "stdout",
     "output_type": "stream",
     "text": [
      "請輸入個股代碼：2884\n",
      "請輸入年度及月份(格式:20200101)：20200301\n"
     ]
    }
   ],
   "source": [
    "# 使用者輸入要擷取資料的個股代碼及年月\n",
    "\n",
    "stockNo = input('請輸入個股代碼：')\n",
    "date = input('請輸入年度及月份(格式:20200101)：')"
   ]
  },
  {
   "cell_type": "code",
   "execution_count": 8,
   "metadata": {},
   "outputs": [
    {
     "name": "stdout",
     "output_type": "stream",
     "text": [
      "https://www.twse.com.tw/exchangeReport/STOCK_DAY?response=json&date=20200301&stockNo=2884\n"
     ]
    }
   ],
   "source": [
    "# 輸入資料直接帶入網址\n",
    "\n",
    "url = 'https://www.twse.com.tw/exchangeReport/STOCK_DAY?response=json&date='+date+'&stockNo='+stockNo\n",
    "print(url)"
   ]
  },
  {
   "cell_type": "code",
   "execution_count": 9,
   "metadata": {},
   "outputs": [],
   "source": [
    "# 使用例外判斷擷取資料\n",
    "try:\n",
    "    data = requests.get(url)\n",
    "except Exception as e:\n",
    "    print('**WARRN: 擷取失敗')\n",
    "    print('錯誤訊息', e)\n",
    "else:\n",
    "    #print(data.text[:1000])\n",
    "    jdata = json.loads(data.text)  # json.loads 將 str 資料轉為 dict\n",
    "    \n",
    "    # 將資料寫入 csv 檔案\n",
    "    f = open('stock.csv', 'w', newline='', encoding='utf-8-sig')\n",
    "    writer = csv.writer(f)\n",
    "    writer.writerow(jdata['fields'])\n",
    "\n",
    "    for line in jdata['data']:\n",
    "        writer.writerow(line)\n",
    "\n",
    "    f.close()"
   ]
  },
  {
   "cell_type": "code",
   "execution_count": 4,
   "metadata": {},
   "outputs": [
    {
     "name": "stdout",
     "output_type": "stream",
     "text": [
      "{\"stat\":\"OK\",\"date\":\"20200301\",\"title\":\"109年03月 2884 玉山金           各日成交資訊\",\"fields\":[\"日期\",\"成交股數\",\"成交金額\",\"開盤價\",\"最高價\",\"最低價\",\"收盤價\",\"漲跌價差\",\"成交筆數\"],\"data\":[[\"109/03/02\",\"53,866,787\",\"1,543,536,982\",\"28.50\",\"28.90\",\"28.50\",\"28.65\",\"-0.40\",\"16,708\"],[\"109/03/03\",\"21,741,837\",\"629,139,655\",\"29.10\",\"29.25\",\"28.80\",\"28.80\",\"+0.15\",\"7,620\"],[\"109/03/04\",\"22,019,064\",\"634,237,491\",\"28.75\",\"29.00\",\"28.60\",\"29.00\",\"+0.20\",\"6,439\"],[\"109/03/05\",\"30,147,406\",\"883,312,248\",\"29.10\",\"29.50\",\"29.10\",\"29.50\",\"+0.50\",\"8,412\"],[\"109/03/06\",\"26,293,669\",\"765,100,152\",\"29.30\",\"29.35\",\"29.00\",\"29.10\",\"-0.40\",\"8,821\"],[\"109/03/09\",\"75,592,926\",\"2,141,854,294\",\"28.50\",\"28.60\",\"28.05\",\"28.15\",\"-0.95\",\"31,087\"],[\"109/03/10\",\"60,002,467\",\"1,666,578,928\",\"27.45\",\"28.30\",\"27.45\",\"28.00\",\"-0.15\",\"19,456\"],[\"109/03/11\",\"43,045,511\",\"1,203,747,704\",\"28.05\",\"28.15\",\"27.80\",\"27.80\",\"-0.20\",\"15,647\"],[\"109/03/12\",\"130,071,277\",\"3,538,337,310\",\"27.85\",\"27.90\",\"26.75\",\"27.05\",\"-0.75\",\"44,644\"],[\"109/03/13\",\"129,436,727\",\"3,31\n"
     ]
    }
   ],
   "source": [
    "# 使用參數傳遞輸入資料\n",
    "\n",
    "url = 'https://www.twse.com.tw/exchangeReport/STOCK_DAY'\n",
    "stock_params = {'response':'json', 'date':date, 'stockNo':stockNo}\n",
    "data = requests.get(url, params=stock_params)\n",
    "print(data.text[:1000])"
   ]
  },
  {
   "cell_type": "code",
   "execution_count": null,
   "metadata": {},
   "outputs": [],
   "source": []
  }
 ],
 "metadata": {
  "kernelspec": {
   "display_name": "Python 3",
   "language": "python",
   "name": "python3"
  },
  "language_info": {
   "codemirror_mode": {
    "name": "ipython",
    "version": 3
   },
   "file_extension": ".py",
   "mimetype": "text/x-python",
   "name": "python",
   "nbconvert_exporter": "python",
   "pygments_lexer": "ipython3",
   "version": "3.7.3"
  }
 },
 "nbformat": 4,
 "nbformat_minor": 2
}
