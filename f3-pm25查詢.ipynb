{
 "cells": [
  {
   "cell_type": "markdown",
   "metadata": {},
   "source": [
    "# PM2.5 列表及查詢\n",
    "\n",
    "網站：[行政院環保署資料開放平台](https://opendata.epa.gov.tw/)"
   ]
  },
  {
   "cell_type": "code",
   "execution_count": 1,
   "metadata": {},
   "outputs": [
    {
     "name": "stdout",
     "output_type": "stream",
     "text": [
      "基隆市 基隆 17\n",
      "新北市 汐止 27\n",
      "新北市 萬里 19\n",
      "新北市 新店 23\n",
      "新北市 土城 22\n",
      "新北市 板橋 29\n",
      "新北市 新莊 27\n",
      "新北市 菜寮 21\n",
      "新北市 林口 25\n",
      "新北市 淡水 21\n",
      "臺北市 士林 27\n",
      "臺北市 中山 28\n",
      "臺北市 萬華 29\n",
      "臺北市 古亭 22\n",
      "臺北市 松山 26\n",
      "臺北市 大同 26\n",
      "桃園市 桃園 30\n",
      "桃園市 大園 22\n",
      "桃園市 觀音 19\n",
      "桃園市 平鎮 28\n",
      "桃園市 龍潭 33\n",
      "新竹縣 湖口 21\n",
      "新竹縣 竹東 27\n",
      "新竹市 新竹 21\n",
      "苗栗縣 頭份 22\n",
      "苗栗縣 苗栗 30\n",
      "苗栗縣 三義 28\n",
      "臺中市 豐原 31\n",
      "臺中市 沙鹿 22\n",
      "臺中市 大里 29\n",
      "臺中市 忠明 26\n",
      "臺中市 西屯 27\n",
      "彰化縣 彰化 19\n",
      "彰化縣 線西 16\n",
      "彰化縣 二林 13\n",
      "南投縣 南投 29\n",
      "雲林縣 斗六 17\n",
      "雲林縣 崙背 16\n",
      "嘉義縣 新港 14\n",
      "嘉義縣 朴子 12\n",
      "雲林縣 臺西 15\n",
      "嘉義市 嘉義 19\n",
      "臺南市 新營 17\n",
      "臺南市 善化 19\n",
      "臺南市 安南 18\n",
      "臺南市 臺南 13\n",
      "高雄市 美濃 20\n",
      "高雄市 橋頭 19\n",
      "高雄市 仁武 19\n",
      "高雄市 鳳山 12\n",
      "高雄市 大寮 20\n",
      "高雄市 林園 20\n",
      "高雄市 楠梓 14\n",
      "高雄市 左營 12\n",
      "高雄市 前金 15\n",
      "高雄市 前鎮 15\n",
      "高雄市 小港 19\n",
      "屏東縣 屏東 19\n",
      "屏東縣 潮州 20\n",
      "屏東縣 恆春 19\n",
      "臺東縣 臺東 13\n",
      "花蓮縣 花蓮 10\n",
      "臺北市 陽明 26\n",
      "宜蘭縣 宜蘭 21\n",
      "宜蘭縣 冬山 20\n",
      "新北市 三重 29\n",
      "桃園市 中壢 31\n",
      "南投縣 竹山 31\n",
      "新北市 永和 26\n",
      "高雄市 復興 17\n",
      "南投縣 埔里 34\n",
      "連江縣 馬祖 37\n",
      "金門縣 金門 20\n",
      "澎湖縣 馬公 14\n",
      "臺東縣 關山 16\n",
      "雲林縣 麥寮 19\n",
      "新北市 富貴角 22\n",
      "臺南市 臺南(麻豆) 15\n",
      "彰化縣 彰化(大城) 10\n",
      "新北市 新北(樹林) 27\n",
      "屏東縣 屏東(琉球) 24\n",
      "高雄市 高雄(楠梓) 16\n",
      "桃園市 桃園(觀音工業區) 27\n"
     ]
    }
   ],
   "source": [
    "# requests 使用 urllib3，會對 https 的網址出現 InsecureRequestWarning 的警告訊息\n",
    "# 使用下列 2 行關閉警告訊息\n",
    "import requests.packages.urllib3\n",
    "requests.packages.urllib3.disable_warnings()\n",
    "\n",
    "import requests\n",
    "import json\n",
    "\n",
    "\n",
    "url = \"http://opendata2.epa.gov.tw/AQI.json\"\n",
    "#url = 'https://opendata.epa.gov.tw/api/v1/AQI?%24skip=0&%24top=1000&%24format=json'\n",
    "data = requests.get(url, verify=False)  # verify False 表示忽略 https 認證\n",
    "jdata = json.loads(data.text)\n",
    "\n",
    "# 列出所有觀測站及 PM2.5 值\n",
    "for item in jdata:\n",
    "    print(item['County'], item['SiteName'], item['PM2.5'])"
   ]
  },
  {
   "cell_type": "markdown",
   "metadata": {},
   "source": [
    "# 查詢某一縣市所有測站"
   ]
  },
  {
   "cell_type": "code",
   "execution_count": 2,
   "metadata": {},
   "outputs": [
    {
     "name": "stdout",
     "output_type": "stream",
     "text": [
      "請輸入縣市名稱:桃園市\n",
      "桃園\n",
      "大園\n",
      "觀音\n",
      "平鎮\n",
      "龍潭\n",
      "中壢\n"
     ]
    }
   ],
   "source": [
    "county = input(\"請輸入縣市名稱:\")\n",
    "\n",
    "for i in range(0,len(jdata)-1):\n",
    "    if county == jdata[i][\"County\"]:\n",
    "        print(jdata[i]['SiteName'])"
   ]
  },
  {
   "cell_type": "markdown",
   "metadata": {},
   "source": [
    "# 查詢某一縣市 PM2.5 平均值"
   ]
  },
  {
   "cell_type": "code",
   "execution_count": 3,
   "metadata": {},
   "outputs": [
    {
     "name": "stdout",
     "output_type": "stream",
     "text": [
      "請輸入縣市名稱:桃園市\n",
      "桃園市共有7個測站\n",
      "平均 PM 2.5 是 27\n"
     ]
    }
   ],
   "source": [
    "import requests\n",
    "import json\n",
    "import requests.packages.urllib3\n",
    "\n",
    "requests.packages.urllib3.disable_warnings()\n",
    "\n",
    "url = 'https://opendata.epa.gov.tw/api/v1/AQI?%24skip=0&%24top=1000&%24format=json'\n",
    "data = requests.get(url, verify=False)  # verify False 表示忽略 https 認證\n",
    "jdata = json.loads(data.text)\n",
    "\n",
    "county = input(\"請輸入縣市名稱:\")\n",
    "\n",
    "pm25 = 0\n",
    "count = 0\n",
    "for i in range(0,len(jdata)-1):\n",
    "    if county == jdata[i][\"County\"]:\n",
    "        if jdata[i][\"PM2.5\"] != \"ND\":\n",
    "            pm25 = pm25 + int(jdata[i][\"PM2.5\"])\n",
    "            count = count + 1\n",
    "            \n",
    "# print(\"pm2.5:\", pm25)\n",
    "# print(\"count:\", count)\n",
    "# print(\"平均值:\", round(pm25/count))\n",
    "        \n",
    "if count == 0:\n",
    "    print(\"查無資料\")\n",
    "else:\n",
    "    print(county + \"共有\" + str(count) + \"個測站\")\n",
    "    print(\"平均 PM 2.5 是 \" + str(round(pm25/count)))"
   ]
  },
  {
   "cell_type": "code",
   "execution_count": null,
   "metadata": {},
   "outputs": [],
   "source": []
  }
 ],
 "metadata": {
  "kernelspec": {
   "display_name": "Python 3",
   "language": "python",
   "name": "python3"
  },
  "language_info": {
   "codemirror_mode": {
    "name": "ipython",
    "version": 3
   },
   "file_extension": ".py",
   "mimetype": "text/x-python",
   "name": "python",
   "nbconvert_exporter": "python",
   "pygments_lexer": "ipython3",
   "version": "3.7.3"
  }
 },
 "nbformat": 4,
 "nbformat_minor": 2
}
