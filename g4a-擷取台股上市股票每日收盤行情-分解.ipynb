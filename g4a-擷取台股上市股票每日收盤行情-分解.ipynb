{
 "cells": [
  {
   "cell_type": "markdown",
   "metadata": {},
   "source": [
    "# 每日收盤行情\n",
    "\n",
    "* 至 [台灣證券交易所/交易資訊/每日收盤行情](https://www.twse.com.tw/zh/page/trading/exchange/MI_INDEX.html)頁面，分類選擇「全部(不含權證、牛熊證、可展廷牛熊證)」\n",
    "* 找到 csv 檔案的下載網址\n",
    "* 使用 requests & pandas 套件下載及讀取資料\n",
    "* 將資料經適當的處理 (轉換格式、刪除等)\n",
    "* 儲存至資料庫"
   ]
  },
  {
   "cell_type": "code",
   "execution_count": 1,
   "metadata": {},
   "outputs": [],
   "source": [
    "# 輸入擷取日期\n",
    "\n",
    "date = input('請輸入擷取日期（格式:20200327）：')"
   ]
  },
  {
   "cell_type": "code",
   "execution_count": 2,
   "metadata": {},
   "outputs": [],
   "source": [
    "# 使用例外判斷擷取資料\n",
    "import requests\n",
    "\n",
    "url = 'https://www.twse.com.tw/exchangeReport/MI_INDEX?response=csv&date='+date+'&type=ALLBUT0999'\n",
    "\n",
    "try:\n",
    "    data = requests.get(url)\n",
    "except Exception as e:\n",
    "    print('**WARRN: 擷取失敗')\n",
    "    print('錯誤訊息', e)\n",
    "else:\n",
    "    print('成功擷取！')"
   ]
  },
  {
   "cell_type": "code",
   "execution_count": 3,
   "metadata": {},
   "outputs": [],
   "source": [
    "# 觀看擷取內容\n",
    "\n",
    "data.text[:1000]"
   ]
  },
  {
   "cell_type": "code",
   "execution_count": 4,
   "metadata": {},
   "outputs": [],
   "source": [
    "# 依換行 \\n 符號分割擷取資料（取得每一列資料）\n",
    "# 用以判斷哪些列資料是要保留的個股每日收盤資料\n",
    "\n",
    "lines = data.text.split('\\n')\n",
    "len(lines)  #取得行數"
   ]
  },
  {
   "cell_type": "code",
   "execution_count": 5,
   "metadata": {},
   "outputs": [],
   "source": [
    "# 觀看某一列資料\n",
    "\n",
    "lines[194]"
   ]
  },
  {
   "cell_type": "code",
   "execution_count": 6,
   "metadata": {},
   "outputs": [],
   "source": [
    "# 判斷每一列的欄位數\n",
    "\n",
    "print(len(lines[3].split(',\"')))\n",
    "print(len(lines[194].split(',\"')))  #此列開始才是要保留的資料"
   ]
  },
  {
   "cell_type": "code",
   "execution_count": 7,
   "metadata": {},
   "outputs": [],
   "source": [
    "# 保留欄位數 > 10 的列資料\n",
    "\n",
    "newdata = []\n",
    "for line in lines:\n",
    "    if len(line.split(',\"')) > 10:\n",
    "        newdata.append(line)\n",
    "print(len(newdata))\n",
    "print(newdata[0])\n",
    "print(newdata[1])"
   ]
  },
  {
   "cell_type": "code",
   "execution_count": 8,
   "metadata": {},
   "outputs": [],
   "source": [
    "# 轉換 list 型別為 str\n",
    "\n",
    "print(type(newdata))\n",
    "data = '\\n'.join(newdata)\n",
    "print(type(data))\n",
    "data[:300]"
   ]
  },
  {
   "cell_type": "code",
   "execution_count": 9,
   "metadata": {},
   "outputs": [],
   "source": [
    "# 移除股票代號前的等號 \n",
    "\n",
    "data = data.replace('=', '')\n",
    "data[:300]"
   ]
  },
  {
   "cell_type": "code",
   "execution_count": 10,
   "metadata": {},
   "outputs": [],
   "source": [
    "# pandas.read_csv 需要 file-like 物件，不可為 string，所以需使用 StringIO 進行轉換 \n",
    "# 將 str 型號轉為 memory file (string buffer)\n",
    "\n",
    "from io import StringIO\n",
    "\n",
    "data_io = StringIO(data)\n",
    "print(type(data_io))\n",
    "#StringIO.getvalue(data_io)"
   ]
  },
  {
   "cell_type": "code",
   "execution_count": 11,
   "metadata": {},
   "outputs": [],
   "source": [
    "import pandas as pd\n",
    "\n",
    "df = pd.read_csv(data_io)\n",
    "df.head(5)"
   ]
  },
  {
   "cell_type": "code",
   "execution_count": 12,
   "metadata": {},
   "outputs": [],
   "source": [
    "# 刪除不需要的欄位\n",
    "\n",
    "df.drop('漲跌(+/-)', axis=1, inplace=True)\n",
    "df.drop('漲跌價差', axis=1, inplace=True)\n",
    "df.drop('本益比', axis=1, inplace=True)\n",
    "df.drop('Unnamed: 16', axis=1, inplace=True)\n",
    "df.head(5)"
   ]
  },
  {
   "cell_type": "code",
   "execution_count": 13,
   "metadata": {},
   "outputs": [],
   "source": [
    "# 移除資料裡的逗號\n",
    "\n",
    "# def func(s):\n",
    "#     #print(s)\n",
    "#     return s.str.replace(',', '')\n",
    "\n",
    "# df = df.apply(func)\n",
    "\n",
    "df = df.apply(lambda s:s.str.replace(',',''))\n",
    "df.head(5)"
   ]
  },
  {
   "cell_type": "code",
   "execution_count": 14,
   "metadata": {},
   "outputs": [],
   "source": [
    "# 除了證券代號與證券名稱，其餘欄位資料型別應為數字\n",
    "# 先將證券代號與證券名稱設為索引，以利後續資料型別的轉換\n",
    "\n",
    "df.set_index(['證券代號','證券名稱'], inplace=True)\n",
    "df.head(5)\n",
    "df.dtypes  #觀看欄位資料型別"
   ]
  },
  {
   "cell_type": "code",
   "execution_count": 15,
   "metadata": {},
   "outputs": [],
   "source": [
    "# 將欄位資料由 str 型別轉為數字型別\n",
    "\n",
    "df = df.apply(lambda s:pd.to_numeric(s, errors='coerce'))\n",
    "df.dtypes"
   ]
  },
  {
   "cell_type": "code",
   "execution_count": 16,
   "metadata": {},
   "outputs": [],
   "source": [
    "# 移除資料不完整者\n",
    "\n",
    "print('移除前:',len(df))\n",
    "df.loc[df['收盤價'].isnull()]  # 找出沒有股價資料者\n",
    "df = df.loc[~df['收盤價'].isnull()]  # 將沒有股價資料移除\n",
    "print('移除後:', len(df))"
   ]
  },
  {
   "cell_type": "code",
   "execution_count": 17,
   "metadata": {},
   "outputs": [],
   "source": [
    "# 新增日期欄位\n",
    "\n",
    "df['date'] = pd.to_datetime(date, format='%Y%m%d', errors='ignore')\n",
    "df.head(5)"
   ]
  },
  {
   "cell_type": "code",
   "execution_count": 18,
   "metadata": {},
   "outputs": [],
   "source": [
    "# 重設索引及更換欄位名稱\n",
    "\n",
    "df = df.reset_index()\n",
    "df = df.rename(columns={'證券代號':'sid'})\n",
    "df.set_index(['sid','date'], inplace=True)\n",
    "df.head(5)"
   ]
  },
  {
   "cell_type": "markdown",
   "metadata": {},
   "source": [
    "# 寫入 SQLite 資料庫"
   ]
  },
  {
   "cell_type": "code",
   "execution_count": 19,
   "metadata": {},
   "outputs": [],
   "source": [
    "# 將 dataframe 資料寫入資料庫\n",
    "# 如果 price table 存在，新增資料，否則，建立表格及新增資料\n",
    "\n",
    "import sqlite3\n",
    "\n",
    "conn = sqlite3.connect('stock1.db')\n",
    "\n",
    "# 判斷 price table 是否已存在\n",
    "# sqlite會自動維護一個系統表 sqlite_master，該表儲存了資料庫裡的各個表格等資訊\n",
    "query = \"select count(*) from sqlite_master where type='table' and name='price'\"\n",
    "exist=list(conn.execute(query))[0][0]\n",
    "\n",
    "if exist:\n",
    "    df.to_sql('price', conn, if_exists='append')\n",
    "    print(date, '資料新增完畢!')\n",
    "else:\n",
    "    df.to_sql('price', conn, if_exists='replace')\n",
    "    print(date, '資料儲存完畢!')\n",
    "\n",
    "conn.close()"
   ]
  },
  {
   "cell_type": "code",
   "execution_count": 20,
   "metadata": {},
   "outputs": [],
   "source": [
    "# 讀取資料庫\n",
    "\n",
    "import sqlite3\n",
    "\n",
    "conn = sqlite3.connect('stock1.db')\n",
    "\n",
    "sqlstr = 'select * from price'\n",
    "#sqlstr = 'select 證券代號,證券名稱,收盤價 from price'\n",
    "#sqlstr = 'select * from price where 收盤價 > 100'\n",
    "df1 = pd.read_sql(sqlstr, conn, index_col=['sid','date'])\n",
    "df1"
   ]
  },
  {
   "cell_type": "markdown",
   "metadata": {},
   "source": [
    "# 資料操作"
   ]
  },
  {
   "cell_type": "code",
   "execution_count": 21,
   "metadata": {},
   "outputs": [],
   "source": [
    "# 股價漲幅超過 5%\n",
    "\n",
    "df2 = df[df['收盤價'] / df['開盤價'] > 1.05]\n",
    "df2"
   ]
  },
  {
   "cell_type": "code",
   "execution_count": null,
   "metadata": {},
   "outputs": [],
   "source": []
  }
 ],
 "metadata": {
  "kernelspec": {
   "display_name": "Python 3",
   "language": "python",
   "name": "python3"
  },
  "language_info": {
   "codemirror_mode": {
    "name": "ipython",
    "version": 3
   },
   "file_extension": ".py",
   "mimetype": "text/x-python",
   "name": "python",
   "nbconvert_exporter": "python",
   "pygments_lexer": "ipython3",
   "version": "3.7.3"
  }
 },
 "nbformat": 4,
 "nbformat_minor": 2
}
