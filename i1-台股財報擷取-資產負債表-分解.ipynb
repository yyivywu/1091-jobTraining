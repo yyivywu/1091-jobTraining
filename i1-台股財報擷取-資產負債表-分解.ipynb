{
 "cells": [
  {
   "cell_type": "markdown",
   "metadata": {},
   "source": [
    "# 台股財報擷取-資產負債表\n",
    "\n",
    "網址：[公開資訊觀測站/財務報表/採IFRS後/合併/個別報表/資產負債表](https://mops.twse.com.tw/mops/web/t164sb03)"
   ]
  },
  {
   "cell_type": "code",
   "execution_count": 1,
   "metadata": {},
   "outputs": [],
   "source": [
    "import requests, sqlite3\n",
    "import pandas as pd"
   ]
  },
  {
   "cell_type": "code",
   "execution_count": 18,
   "metadata": {},
   "outputs": [],
   "source": [
    "print('擷取台股財報－資產負債表...')\n",
    "sid = input('請輸入個股代號：')\n",
    "year = input('請輸入擷取年度（請輸入民國年，譬如：108）：')\n",
    "season = input('請輸入擷取季（輸入格式及區間：01 ~ 04）：')"
   ]
  },
  {
   "cell_type": "code",
   "execution_count": 3,
   "metadata": {},
   "outputs": [],
   "source": [
    "# 設定網址及 post 表單參數\n",
    "\n",
    "url = 'https://mops.twse.com.tw/mops/web/t164sb03'\n",
    "form_data = {\n",
    "    'encodeURIComponent':1,\n",
    "    'step':1,\n",
    "    'firstin':1,\n",
    "    'off':1,\n",
    "    'queryName':'co_id',\n",
    "    'inputType':'co_id',\n",
    "    'TYPEK':'all',\n",
    "    'isnew':'false',\n",
    "    'co_id':sid,\n",
    "    'year':year,\n",
    "    'season':season,\n",
    "}"
   ]
  },
  {
   "cell_type": "code",
   "execution_count": 20,
   "metadata": {},
   "outputs": [],
   "source": [
    "# 擷取資料\n",
    "\n",
    "try:\n",
    "    data = requests.post(url, data=form_data)\n",
    "except Exception as e:\n",
    "    print('**WARRN: 擷取失敗')\n",
    "    print('錯誤訊息', e)\n",
    "else:\n",
    "    print('成功擷取！')\n",
    "    #print(data.text[:1000])"
   ]
  },
  {
   "cell_type": "code",
   "execution_count": 21,
   "metadata": {},
   "outputs": [],
   "source": [
    "# 使用 pandas 讀取網頁裡的表格資料\n",
    "\n",
    "dfs = pd.read_html(data.text)\n",
    "#dfs = pd.read_html('i1-bs.html')"
   ]
  },
  {
   "cell_type": "code",
   "execution_count": 22,
   "metadata": {},
   "outputs": [],
   "source": [
    "# 取得資產負債表表格資料\n",
    "\n",
    "# print(len(dfs))\n",
    "# dfs[10]\n",
    "df = dfs[10]\n",
    "df.head(5)"
   ]
  },
  {
   "cell_type": "code",
   "execution_count": 23,
   "metadata": {},
   "outputs": [],
   "source": [
    "# 查看列數及欄數\n",
    "\n",
    "df.shape\n",
    "#df.shape[1]"
   ]
  },
  {
   "cell_type": "code",
   "execution_count": 24,
   "metadata": {},
   "outputs": [],
   "source": [
    "# 重設欄位名稱\n",
    "\n",
    "#print(df.columns)\n",
    "df.columns = list(range(df.shape[1]))\n",
    "#print(df.columns)\n",
    "df.head(5)"
   ]
  },
  {
   "cell_type": "code",
   "execution_count": 25,
   "metadata": {},
   "outputs": [],
   "source": [
    "# 設定索引值\n",
    "\n",
    "df = df.set_index(0)\n",
    "df.head(5)"
   ]
  },
  {
   "cell_type": "code",
   "execution_count": 26,
   "metadata": {},
   "outputs": [],
   "source": [
    "# 只取第一欄資料(即當季財報), 及刪除 nan 項\n",
    "\n",
    "df1 = df[1].dropna()\n",
    "df1.head(10)"
   ]
  },
  {
   "cell_type": "code",
   "execution_count": 27,
   "metadata": {},
   "outputs": [],
   "source": [
    "# 只取1個欄位資料後, 變成 series, 需轉換為 Dataframe\n",
    "\n",
    "print('轉換前:', type(df1))\n",
    "df1 = pd.DataFrame(df1)\n",
    "print('轉換後:', type(df1))"
   ]
  },
  {
   "cell_type": "code",
   "execution_count": 28,
   "metadata": {},
   "outputs": [],
   "source": [
    "# 轉置表格, 即列與欄交換\n",
    "\n",
    "df1 = df1.transpose()\n",
    "df1"
   ]
  },
  {
   "cell_type": "code",
   "execution_count": 29,
   "metadata": {},
   "outputs": [],
   "source": [
    "# 刪除重覆欄位\n",
    "\n",
    "df1 = df1.loc[:, ~df1.columns.duplicated()]\n",
    "df1"
   ]
  },
  {
   "cell_type": "code",
   "execution_count": 30,
   "metadata": {},
   "outputs": [],
   "source": [
    "# 新增股票代碼及財報日期欄位\n",
    "\n",
    "df1['sid'] = sid\n",
    "df1['year'] = year\n",
    "df1['season'] = season\n",
    "\n",
    "# 設定索引值\n",
    "\n",
    "df1 = df1.set_index(['sid', 'year', 'season'])\n",
    "df1"
   ]
  },
  {
   "cell_type": "code",
   "execution_count": 31,
   "metadata": {},
   "outputs": [],
   "source": [
    "# 資料庫儲存位置\n",
    "\n",
    "import os\n",
    "\n",
    "filename = os.path.join('data', 'stock.db')\n",
    "filename"
   ]
  },
  {
   "cell_type": "code",
   "execution_count": 32,
   "metadata": {},
   "outputs": [],
   "source": [
    "#conn = sqlite3.connect(os.path.join('data', 'stock.db'))\n",
    "conn = sqlite3.connect(filename)\n",
    "\n",
    "# 判斷 bs table 是否已存在\n",
    "query = \"select count(*) from sqlite_master where type='table' and name='bs'\"\n",
    "exist = list(conn.execute(query))[0][0]\n",
    "\n",
    "# 如果 bs table 存在，新增資料，否則，建立表格及新增資料\n",
    "if exist:\n",
    "    # 讀取資料庫中原有資料\n",
    "    data = pd.read_sql('select * from bs', conn, index_col=(['sid', 'year', 'season']))\n",
    "    \n",
    "    # 合併原有資料與新資料\n",
    "    newdf = pd.concat([data, df1], sort=True)\n",
    "\n",
    "    # 刪除重覆項\n",
    "    newdf.drop_duplicates(inplace=True)\n",
    "    \n",
    "    newdf.to_sql('bs', conn, if_exists='replace')\n",
    "    print('資料新增完畢!')\n",
    "else:\n",
    "    df1.to_sql('bs', conn, if_exists='replace')\n",
    "    print('資料儲存完畢!')\n",
    "\n",
    "conn.close()"
   ]
  },
  {
   "cell_type": "code",
   "execution_count": null,
   "metadata": {},
   "outputs": [],
   "source": []
  }
 ],
 "metadata": {
  "kernelspec": {
   "display_name": "Python 3",
   "language": "python",
   "name": "python3"
  },
  "language_info": {
   "codemirror_mode": {
    "name": "ipython",
    "version": 3
   },
   "file_extension": ".py",
   "mimetype": "text/x-python",
   "name": "python",
   "nbconvert_exporter": "python",
   "pygments_lexer": "ipython3",
   "version": "3.7.3"
  }
 },
 "nbformat": 4,
 "nbformat_minor": 2
}
