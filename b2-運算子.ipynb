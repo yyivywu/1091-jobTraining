{
 "cells": [
  {
   "cell_type": "markdown",
   "metadata": {},
   "source": [
    "# 運算子練習"
   ]
  },
  {
   "cell_type": "code",
   "execution_count": 1,
   "metadata": {},
   "outputs": [
    {
     "name": "stdout",
     "output_type": "stream",
     "text": [
      "2.5\n",
      "1\n",
      "2\n",
      "25\n"
     ]
    }
   ],
   "source": [
    "# 算術運算子\n",
    "\n",
    "a=5\n",
    "b=2\n",
    "print(a / b)   #除\n",
    "print(a % b)   #餘數\n",
    "print(a // b)  #商數\n",
    "print(a ** b)  #指數"
   ]
  },
  {
   "cell_type": "code",
   "execution_count": 2,
   "metadata": {},
   "outputs": [
    {
     "data": {
      "text/plain": [
       "5"
      ]
     },
     "execution_count": 2,
     "metadata": {},
     "output_type": "execute_result"
    }
   ],
   "source": [
    "total = 5 + 2 * 3 + 11 % 3 - 2 ** 3\n",
    "total"
   ]
  },
  {
   "cell_type": "code",
   "execution_count": 3,
   "metadata": {},
   "outputs": [
    {
     "data": {
      "text/plain": [
       "-2"
      ]
     },
     "execution_count": 3,
     "metadata": {},
     "output_type": "execute_result"
    }
   ],
   "source": [
    "total = 5 + 2 * (3 + 11) % 3 - 2 ** 3 \n",
    "total"
   ]
  },
  {
   "cell_type": "code",
   "execution_count": 4,
   "metadata": {},
   "outputs": [
    {
     "data": {
      "text/plain": [
       "11"
      ]
     },
     "execution_count": 4,
     "metadata": {},
     "output_type": "execute_result"
    }
   ],
   "source": [
    "total = 5 + 2 * 3 + 11 % (3 - 2) ** 3 \n",
    "total"
   ]
  },
  {
   "cell_type": "code",
   "execution_count": 8,
   "metadata": {},
   "outputs": [
    {
     "name": "stdout",
     "output_type": "stream",
     "text": [
      "請輸入要購買的數量：14\n",
      "您購買了 14 瓶飲料，總價為： 240\n"
     ]
    }
   ],
   "source": [
    "# 餘數 (Mod, %) 應用-購買飲枓\n",
    "\n",
    "amount = int(input('請輸入要購買的數量：'))\n",
    "dozen = amount // 12\n",
    "bottle = amount % 12\n",
    "cost = 200 * dozen + bottle * 20\n",
    "print('您購買了', amount, '瓶飲料，總價為：', cost)"
   ]
  },
  {
   "cell_type": "markdown",
   "metadata": {},
   "source": [
    "# print 命令練習"
   ]
  },
  {
   "cell_type": "code",
   "execution_count": 9,
   "metadata": {},
   "outputs": [
    {
     "name": "stdout",
     "output_type": "stream",
     "text": [
      "考試得到 100 分\n",
      "考試得到100分\n",
      "考試得到 $ 100 $ 分. "
     ]
    }
   ],
   "source": [
    "print('考試得到', 100, '分')\n",
    "print('考試得到'+str(100)+'分')\n",
    "print('考試得到', 100, '分', sep=' $ ', end='.')"
   ]
  },
  {
   "cell_type": "code",
   "execution_count": 10,
   "metadata": {},
   "outputs": [
    {
     "name": "stdout",
     "output_type": "stream",
     "text": [
      "林志琳 的成績為 90 分\n",
      "  林志琳 的成績為    90 分\n",
      "林志琳   的成績為 90    分\n",
      "林志琳 的成績為  90.22 分\n"
     ]
    }
   ],
   "source": [
    "print('%s 的成績為 %d 分' % ('林志琳', 90))\n",
    "print('%5s 的成績為 %5d 分' % ('林志琳', 90))      \n",
    "print('%-5s 的成績為 %-5d 分' % ('林志琳', 90))    \n",
    "print('%s 的成績為 %6.2f 分' % ('林志琳', 90.215))"
   ]
  },
  {
   "cell_type": "code",
   "execution_count": 13,
   "metadata": {},
   "outputs": [
    {
     "name": "stdout",
     "output_type": "stream",
     "text": [
      "林志琳 成績為 90 分\n",
      "林志琳   成績為  90.00 分\n"
     ]
    }
   ],
   "source": [
    "print('{} 成績為 {} 分'.format('林志琳', 90))\n",
    "print('{:5s} 成績為 {:6.2f} 分'.format('林志琳', 90))"
   ]
  },
  {
   "cell_type": "code",
   "execution_count": 14,
   "metadata": {},
   "outputs": [
    {
     "name": "stdout",
     "output_type": "stream",
     "text": [
      "林志琳 的成績為 90 分\n"
     ]
    }
   ],
   "source": [
    "name = '林志琳'\n",
    "score = 90\n",
    "print(f'{name} 的成績為 {score} 分')"
   ]
  },
  {
   "attachments": {},
   "cell_type": "markdown",
   "metadata": {},
   "source": [
    "# 溫度轉換\n",
    "\n",
    "華氏溫度(F) = 攝氏溫度(C) * 9/5 + 32\n",
    "\n",
    "攝氏溫度(C) = (華氏溫度(F) - 32) * 5/9"
   ]
  },
  {
   "cell_type": "code",
   "execution_count": 19,
   "metadata": {},
   "outputs": [
    {
     "name": "stdout",
     "output_type": "stream",
     "text": [
      "請輸入華氏溫度：100\n",
      "華氏溫度 100.0 換算為攝氏溫度為 37.8\n"
     ]
    }
   ],
   "source": [
    "# 華氏轉攝氏\n",
    "\n",
    "Fdegree = float(input('請輸入華氏溫度：'))\n",
    "Cdegree = (Fdegree - 32) * 5 / 9\n",
    "print('華氏溫度 %3.1f 換算為攝氏溫度為 %3.1f' % (Fdegree, Cdegree))"
   ]
  },
  {
   "cell_type": "code",
   "execution_count": 20,
   "metadata": {},
   "outputs": [
    {
     "name": "stdout",
     "output_type": "stream",
     "text": [
      "請輸入華氏溫度：34.2\n",
      "攝氏溫度 93.6 換算為華氏溫度為 34.2\n"
     ]
    }
   ],
   "source": [
    "# 攝氏轉華氏\n",
    "\n",
    "Cdegree = float(input('請輸入華氏溫度：'))\n",
    "Fdegree = Cdegree * 9 / 5 + 32\n",
    "print('攝氏溫度 %3.1f 換算為華氏溫度為 %3.1f' % (Fdegree, Cdegree))"
   ]
  },
  {
   "attachments": {},
   "cell_type": "markdown",
   "metadata": {},
   "source": [
    "# 除權息股價計算\n",
    "\n",
    "先除息，再除權\n",
    "\n",
    "台泥股價43.95元，108年發放現金股利3.31，股票股利0.7，計算除權息後股價"
   ]
  },
  {
   "cell_type": "code",
   "execution_count": 22,
   "metadata": {},
   "outputs": [
    {
     "name": "stdout",
     "output_type": "stream",
     "text": [
      "台泥除權息後股價為：37.98\n"
     ]
    }
   ],
   "source": [
    "price = (43.95 - 3.31) / (1 + 0.7 / 10)\n",
    "print('台泥除權息後股價為：%3.2f' % price)"
   ]
  },
  {
   "cell_type": "code",
   "execution_count": 23,
   "metadata": {},
   "outputs": [
    {
     "name": "stdout",
     "output_type": "stream",
     "text": [
      "False\n",
      "True\n",
      "True\n"
     ]
    }
   ],
   "source": [
    "# 比較運算子\n",
    "\n",
    "print(5<2)\n",
    "print(6>=4)\n",
    "print(5!=2)"
   ]
  },
  {
   "cell_type": "code",
   "execution_count": 24,
   "metadata": {},
   "outputs": [
    {
     "name": "stdout",
     "output_type": "stream",
     "text": [
      "True\n",
      "False\n",
      "True\n",
      "True\n"
     ]
    }
   ],
   "source": [
    "# 邏輯運算子\n",
    "\n",
    "print((5>2) and (12<20) and ('a'<'c'))\n",
    "print((5<2) and (12<20) and ('a'<'c'))\n",
    "print((5<2) or (12<20) or ('a'<'c'))\n",
    "print(not (5<2))"
   ]
  },
  {
   "attachments": {},
   "cell_type": "markdown",
   "metadata": {},
   "source": [
    "# 判斷是否為閏年\n",
    "\n",
    "閏年條件：西元年若為 100 的倍數，則必須為 400 倍數；若不為 100 倍數，必須為 4 的倍數"
   ]
  },
  {
   "cell_type": "code",
   "execution_count": 37,
   "metadata": {},
   "outputs": [
    {
     "name": "stdout",
     "output_type": "stream",
     "text": [
      "請輸入西元年：2100\n",
      "西元年： 2100 , 是否為閏年： False\n"
     ]
    }
   ],
   "source": [
    "year = int(input('請輸入西元年：'))\n",
    "isLeapyear = (year % 100 == 0 and year % 400 == 0) or (year % 100 != 0 and year % 4 == 0)\n",
    "print('西元年：', year, ', 是否為閏年：', isLeapyear)"
   ]
  },
  {
   "cell_type": "code",
   "execution_count": 38,
   "metadata": {},
   "outputs": [
    {
     "name": "stdout",
     "output_type": "stream",
     "text": [
      "6\n"
     ]
    }
   ],
   "source": [
    "# 複合指定運算子\n",
    "a = 5\n",
    "a += 1  # a = a + 1\n",
    "print(a)"
   ]
  },
  {
   "cell_type": "code",
   "execution_count": 39,
   "metadata": {},
   "outputs": [
    {
     "name": "stdout",
     "output_type": "stream",
     "text": [
      "True\n",
      "False\n"
     ]
    }
   ],
   "source": [
    "# in 與 is 運算子\n",
    "\n",
    "x = 1\n",
    "y = [1, 2, 3]\n",
    "print(x in y)\n",
    "print(x not in y)"
   ]
  },
  {
   "cell_type": "code",
   "execution_count": 40,
   "metadata": {},
   "outputs": [
    {
     "name": "stdout",
     "output_type": "stream",
     "text": [
      "130827144 130827080\n",
      "False\n",
      "130827144\n",
      "True\n"
     ]
    }
   ],
   "source": [
    "x1 = [1, 2, 3]\n",
    "y1 = [1, 2, 3]\n",
    "print(id(x1), id(y1))\n",
    "print(x1 is y1)\n",
    "z1 = x1\n",
    "print(id(z1))\n",
    "print(z1 is x1)"
   ]
  },
  {
   "cell_type": "code",
   "execution_count": null,
   "metadata": {},
   "outputs": [],
   "source": []
  }
 ],
 "metadata": {
  "kernelspec": {
   "display_name": "Python 3",
   "language": "python",
   "name": "python3"
  },
  "language_info": {
   "codemirror_mode": {
    "name": "ipython",
    "version": 3
   },
   "file_extension": ".py",
   "mimetype": "text/x-python",
   "name": "python",
   "nbconvert_exporter": "python",
   "pygments_lexer": "ipython3",
   "version": "3.7.3"
  }
 },
 "nbformat": 4,
 "nbformat_minor": 2
}
