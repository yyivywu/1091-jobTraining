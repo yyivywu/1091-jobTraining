{
 "cells": [
  {
   "cell_type": "markdown",
   "metadata": {},
   "source": [
    "# Plotly 繪圖套件\n",
    "\n",
    "官方網站：https://plot.ly/python/"
   ]
  },
  {
   "cell_type": "code",
   "execution_count": 1,
   "metadata": {},
   "outputs": [
    {
     "data": {
      "text/html": [
       "        <script type=\"text/javascript\">\n",
       "        window.PlotlyConfig = {MathJaxConfig: 'local'};\n",
       "        if (window.MathJax) {MathJax.Hub.Config({SVG: {font: \"STIX-Web\"}});}\n",
       "        if (typeof require !== 'undefined') {\n",
       "        require.undef(\"plotly\");\n",
       "        requirejs.config({\n",
       "            paths: {\n",
       "                'plotly': ['https://cdn.plot.ly/plotly-latest.min']\n",
       "            }\n",
       "        });\n",
       "        require(['plotly'], function(Plotly) {\n",
       "            window._Plotly = Plotly;\n",
       "        });\n",
       "        }\n",
       "        </script>\n",
       "        "
      ]
     },
     "metadata": {},
     "output_type": "display_data"
    }
   ],
   "source": [
    "# 匯入套件及連結 Jupyter\n",
    "\n",
    "import plotly\n",
    "from plotly.graph_objs import Scatter\n",
    "\n",
    "plotly.offline.init_notebook_mode(connected=True)"
   ]
  },
  {
   "cell_type": "code",
   "execution_count": 2,
   "metadata": {},
   "outputs": [],
   "source": [
    "year = ['2015', '2016', '2017', '2018', '2019']\n",
    "yoy = [2.5, 1.8, 3.5, 3.2, 4.1]\n",
    "data = [Scatter(x=year, y=yoy)]\n",
    "plotly.offline.iplot({\n",
    "    \"data\": data    \n",
    "})"
   ]
  },
  {
   "cell_type": "code",
   "execution_count": 3,
   "metadata": {},
   "outputs": [],
   "source": [
    "# mode 屬性：lines 線形圖、markers 散點圖\n",
    "\n",
    "data = [Scatter(x=year, y=yoy, mode='lines')]\n",
    "plotly.offline.iplot({\n",
    "    \"data\": data    \n",
    "})"
   ]
  },
  {
   "cell_type": "code",
   "execution_count": 4,
   "metadata": {},
   "outputs": [],
   "source": [
    "# 為每個繪圖點加上該點的說明文字及出現位置\n",
    "\n",
    "#txt = ['2015', '2016', '2017', '2018', '2019']\n",
    "data = [Scatter(x=year, y=yoy, text=yoy, textposition=\"top center\", \n",
    "                mode='markers+lines+text')]\n",
    "plotly.offline.iplot({\n",
    "    \"data\": data    \n",
    "})"
   ]
  },
  {
   "cell_type": "code",
   "execution_count": 5,
   "metadata": {},
   "outputs": [],
   "source": [
    "# 圖形加上樓題\n",
    "\n",
    "from plotly.graph_objs import Layout\n",
    "\n",
    "plotly.offline.iplot({\n",
    "    \"data\": data,    \n",
    "    \"layout\": Layout(title='台灣經濟成長率')\n",
    "})"
   ]
  },
  {
   "cell_type": "code",
   "execution_count": 6,
   "metadata": {},
   "outputs": [],
   "source": [
    "# 同時繪製多個資料\n",
    "\n",
    "import plotly\n",
    "from plotly.graph_objs import Scatter, Layout\n",
    "\n",
    "plotly.offline.init_notebook_mode(connected=True)\n",
    "\n",
    "year = ['2015', '2016', '2017', '2018', '2019']\n",
    "yoy = [2.5, 1.8, 3.5, 3.2, 4.1]\n",
    "nojob = [3.78, 4.1, 2.5, 2.3, 1.9]\n",
    "\n",
    "data = [\n",
    "    Scatter(x=year, y=yoy, name='成長率'), #第1個圖\n",
    "    Scatter(x=year, y=nojob, name='失業率'), #第2個圖\n",
    "]\n",
    "plotly.offline.iplot({\n",
    "    \"data\": data,\n",
    "    \"layout\": Layout(title='台灣經濟成長率及失業率')\n",
    "}) "
   ]
  },
  {
   "cell_type": "code",
   "execution_count": 7,
   "metadata": {},
   "outputs": [],
   "source": [
    "# 繪製個股全年日收盤價統計圖\n",
    "\n",
    "import pandas as pd\n",
    "import plotly\n",
    "\n",
    "plotly.offline.init_notebook_mode(connected=True)  \n",
    "\n",
    "filename = 'h2-stock-2884-2019.csv'\n",
    "df = pd.read_csv(filename, encoding='utf-8-sig')\n",
    "\n",
    "df['日期'] = df['日期'].str.replace('/','').astype(int)+19110000\n",
    "df['日期'] = pd.to_datetime(df['日期'].astype(str))\n",
    "\n",
    "data = [\n",
    "    plotly.graph_objs.Scatter(x=df['日期'], y=df['收盤價'], name='收盤價'),\n",
    "    plotly.graph_objs.Scatter(x=df['日期'], y=df['最低價'], name='最低價'),\n",
    "    plotly.graph_objs.Scatter(x=df['日期'], y=df['最高價'], name='最高價')\n",
    "]\n",
    "plotly.offline.iplot({  \n",
    "    \"data\": data,\n",
    "    \"layout\": plotly.graph_objs.Layout(title='2019年全年日成交股價圖')\n",
    "}) "
   ]
  },
  {
   "cell_type": "code",
   "execution_count": 8,
   "metadata": {},
   "outputs": [],
   "source": [
    "# 繪製雙 Y 軸個股全年日收盤價統計圖\n",
    "\n",
    "import pandas as pd\n",
    "import plotly\n",
    "\n",
    "plotly.offline.init_notebook_mode(connected=True)  \n",
    "\n",
    "filename = 'h2-stock-2884-2019.csv'\n",
    "df = pd.read_csv(filename, encoding='utf-8-sig')\n",
    "\n",
    "df['日期'] = df['日期'].str.replace('/','').astype(int)+19110000\n",
    "df['日期'] = pd.to_datetime(df['日期'].astype(str))\n",
    "df['成交金額'] = df['成交金額'].str.replace(',','').astype('int64') \n",
    "\n",
    "data = [\n",
    "    plotly.graph_objs.Scatter(x=df['日期'], y=df['收盤價'], name='收盤價'),\n",
    "    plotly.graph_objs.Scatter(x=df['日期'], y=df['成交金額'], name='成交金額', xaxis='x', yaxis='y2')\n",
    "]\n",
    "\n",
    "layout = plotly.graph_objs.Layout(yaxis2=dict(anchor='x', overlaying='y', side='right'),\n",
    "                                       title='2019年全年日成交股價圖')\n",
    "\n",
    "plotly.offline.iplot({  \n",
    "    \"data\": data,\n",
    "    \"layout\": layout\n",
    "}) "
   ]
  },
  {
   "cell_type": "code",
   "execution_count": null,
   "metadata": {},
   "outputs": [],
   "source": []
  }
 ],
 "metadata": {
  "kernelspec": {
   "display_name": "Python 3",
   "language": "python",
   "name": "python3"
  },
  "language_info": {
   "codemirror_mode": {
    "name": "ipython",
    "version": 3
   },
   "file_extension": ".py",
   "mimetype": "text/x-python",
   "name": "python",
   "nbconvert_exporter": "python",
   "pygments_lexer": "ipython3",
   "version": "3.7.3"
  }
 },
 "nbformat": 4,
 "nbformat_minor": 2
}
