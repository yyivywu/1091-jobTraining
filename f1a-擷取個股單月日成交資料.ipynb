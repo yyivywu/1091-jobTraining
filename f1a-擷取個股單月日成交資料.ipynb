{
 "cells": [
  {
   "cell_type": "markdown",
   "metadata": {},
   "source": [
    "# 擷取台股單一個股日成交資訊及存檔\n",
    "\n",
    "資料來源：[台灣證券交易所/個股日成交資訊](https://www.twse.com.tw/zh/page/trading/exchange/STOCK_DAY.html)\n",
    "\n",
    "回傳資料網址：[Json 格式](https://www.twse.com.tw/exchangeReport/STOCK_DAY?response=json&date=20200101&stockNo=2330)、[HTML 格式](https://www.twse.com.tw/exchangeReport/STOCK_DAY?response=html&date=20200101&stockNo=2330)、[CSV 格式](https://www.twse.com.tw/exchangeReport/STOCK_DAY?response=csv&date=20200101&stockNo=2330)\n"
   ]
  },
  {
   "cell_type": "code",
   "execution_count": 1,
   "metadata": {},
   "outputs": [],
   "source": [
    "# 匯入套件\n",
    "\n",
    "import requests"
   ]
  },
  {
   "cell_type": "code",
   "execution_count": 9,
   "metadata": {},
   "outputs": [],
   "source": [
    "# 擷取個股日成交資訊\n",
    "\n",
    "url = 'https://www.twse.com.tw/exchangeReport/STOCK_DAY?response=json&date=20200301&stockNo=2330'\n",
    "data = requests.get(url)"
   ]
  },
  {
   "cell_type": "code",
   "execution_count": 10,
   "metadata": {},
   "outputs": [
    {
     "name": "stdout",
     "output_type": "stream",
     "text": [
      "200\n",
      "UTF-8\n",
      "{'Server': 'nginx', 'Date': 'Fri, 20 Mar 2020 08:27:46 GMT', 'Content-Type': 'application/json;charset=UTF-8', 'Transfer-Encoding': 'chunked', 'Connection': 'keep-alive', 'X-Application-Context': 'application:production', 'Allow': 'GET, POST, HEAD', 'Content-Encoding': 'gzip'}\n"
     ]
    }
   ],
   "source": [
    "# 伺服器回應\n",
    "\n",
    "print(data.status_code)\n",
    "print(data.encoding)\n",
    "print(data.headers)"
   ]
  },
  {
   "cell_type": "code",
   "execution_count": 11,
   "metadata": {},
   "outputs": [
    {
     "name": "stdout",
     "output_type": "stream",
     "text": [
      "{\"stat\":\"OK\",\"date\":\"20200320\",\"title\":\"109年03月 2330 台積電           各日成交資訊\",\"fields\":[\"日期\",\"成交股數\",\"成交金額\",\"開盤價\",\"最高價\",\"最低價\",\"收盤價\",\"漲跌價差\",\"成交筆數\"],\"data\":[[\"109/03/02\",\"86,372,942\",\"26,864,484,400\",\"308.00\",\"317.00\",\"308.00\",\"311.00\",\"-5.00\",\"35,320\"],[\"109/03/03\",\"55,169,411\",\"17,534,766,696\",\"318.50\",\"320.00\",\"316.00\",\"317.50\",\"+6.50\",\"20,713\"],[\"109/03/04\",\"44,745,146\",\"14,304,795,666\",\"322.00\",\"322.00\",\"317.00\",\"320.50\",\"+3.00\",\"16,118\"],[\"109/03/05\",\"38,223,525\",\"12,392,618,100\",\"325.00\",\"326.00\",\"323.00\",\"323.00\",\"+2.50\",\"15,107\"],[\"109/03/06\",\"52,807,760\",\"16,733,485,610\",\"320.00\",\"320.50\",\"315.00\",\"315.00\",\"-8.00\",\"24,175\"],[\"109/03/09\",\"88,633,277\",\"27,236,002,054\",\"307.50\",\"310.00\",\"305.50\",\"305.50\",\"-9.50\",\"44,882\"],[\"109/03/10\",\"74,869,130\",\"22,727,941,511\",\"301.50\",\"309.00\",\"301.00\",\"307.00\",\"+1.50\",\"30,268\"],[\"109/03/11\",\"64,923,710\",\"19,913,151,529\",\"309.00\",\"310.50\",\"302.00\",\"302.00\",\"-5.00\",\"27,176\"],[\"109/03/12\",\"114,173,351\",\"33,544,278,206\",\"299.00\",\"299.00\",\"287.00\",\"2\n"
     ]
    }
   ],
   "source": [
    "if data.status_code == requests.codes.ok:\n",
    "    #print(data.text)\n",
    "    print(data.text[:1000])  #只印出前 1000 個字"
   ]
  },
  {
   "cell_type": "code",
   "execution_count": 12,
   "metadata": {},
   "outputs": [
    {
     "name": "stdout",
     "output_type": "stream",
     "text": [
      "{\"stat\":\"OK\",\"date\":\"20200301\",\"title\":\"109年03月 2330 台積電           各日成交資訊\",\"fields\":[\"日期\",\"成交股數\",\"成交金額\",\"開盤價\",\"最高價\",\"最低價\",\"收盤價\",\"漲跌價差\",\"成交筆數\"],\"data\":[[\"109/03/02\",\"86,372,942\",\"26,864,484,400\",\"308.00\",\"317.00\",\"308.00\",\"311.00\",\"-5.00\",\"35,320\"],[\"109/03/03\",\"55,169,411\",\"17,534,766,696\",\"318.50\",\"320.00\",\"316.00\",\"317.50\",\"+6.50\",\"20,713\"],[\"109/03/04\",\"44,745,146\",\"14,304,795,666\",\"322.00\",\"322.00\",\"317.00\",\"320.50\",\"+3.00\",\"16,118\"],[\"109/03/05\",\"38,223,525\",\"12,392,618,100\",\"325.00\",\"326.00\",\"323.00\",\"323.00\",\"+2.50\",\"15,107\"],[\"109/03/06\",\"52,807,760\",\"16,733,485,610\",\"320.00\",\"320.50\",\"315.00\",\"315.00\",\"-8.00\",\"24,175\"],[\"109/03/09\",\"88,633,277\",\"27,236,002,054\",\"307.50\",\"310.00\",\"305.50\",\"305.50\",\"-9.50\",\"44,882\"],[\"109/03/10\",\"74,869,130\",\"22,727,941,511\",\"301.50\",\"309.00\",\"301.00\",\"307.00\",\"+1.50\",\"30,268\"],[\"109/03/11\",\"64,923,710\",\"19,913,151,529\",\"309.00\",\"310.50\",\"302.00\",\"302.00\",\"-5.00\",\"27,176\"],[\"109/03/12\",\"114,173,351\",\"33,544,278,206\",\"299.00\",\"299.00\",\"287.00\",\"2\n"
     ]
    }
   ],
   "source": [
    "# 使用例外判斷擷取資料\n",
    "\n",
    "url = 'https://www.twse.com.tw/exchangeReport/STOCK_DAY?response=json&date=20200301&stockNo=2330'\n",
    "\n",
    "try:\n",
    "    data = requests.get(url)\n",
    "except Exception as e:\n",
    "    print('**WARRN: 擷取失敗')\n",
    "    print('錯誤訊息', e)\n",
    "else:\n",
    "    print(data.text[:1000])"
   ]
  },
  {
   "cell_type": "code",
   "execution_count": 15,
   "metadata": {},
   "outputs": [
    {
     "name": "stdout",
     "output_type": "stream",
     "text": [
      "{'stat': 'OK', 'date': '20200301', 'title': '109年03月 2330 台積電           各日成交資訊', 'fields': ['日期', '成交股數', '成交金額', '開盤價', '最高價', '最低價', '收盤價', '漲跌價差', '成交筆數'], 'data': [['109/03/02', '86,372,942', '26,864,484,400', '308.00', '317.00', '308.00', '311.00', '-5.00', '35,320'], ['109/03/03', '55,169,411', '17,534,766,696', '318.50', '320.00', '316.00', '317.50', '+6.50', '20,713'], ['109/03/04', '44,745,146', '14,304,795,666', '322.00', '322.00', '317.00', '320.50', '+3.00', '16,118'], ['109/03/05', '38,223,525', '12,392,618,100', '325.00', '326.00', '323.00', '323.00', '+2.50', '15,107'], ['109/03/06', '52,807,760', '16,733,485,610', '320.00', '320.50', '315.00', '315.00', '-8.00', '24,175'], ['109/03/09', '88,633,277', '27,236,002,054', '307.50', '310.00', '305.50', '305.50', '-9.50', '44,882'], ['109/03/10', '74,869,130', '22,727,941,511', '301.50', '309.00', '301.00', '307.00', '+1.50', '30,268'], ['109/03/11', '64,923,710', '19,913,151,529', '309.00', '310.50', '302.00', '302.00', '-5.00', '27,176'], ['109/03/12', '114,173,351', '33,544,278,206', '299.00', '299.00', '287.00', '294.00', '-8.00', '56,989'], ['109/03/13', '151,268,148', '42,448,997,546', '275.00', '294.00', '272.50', '290.00', '-4.00', '71,990'], ['109/03/16', '103,933,228', '29,343,288,916', '285.00', '291.00', '275.50', '276.50', '-13.50', '51,292'], ['109/03/17', '122,409,651', '32,936,712,540', '265.00', '276.50', '265.00', '268.00', '-8.50', '57,123'], ['109/03/18', '118,620,643', '31,555,231,792', '269.50', '272.50', '260.00', '260.00', '-8.00', '53,985'], ['109/03/19', '160,811,697', '39,559,889,553', '252.00', '253.00', '235.50', '248.00', 'X0.00', '77,302'], ['109/03/20', '157,664,726', '41,708,625,746', '258.50', '270.00', '256.00', '270.00', '+22.00', '69,821']], 'notes': ['符號說明:+/-/X表示漲/跌/不比價', '當日統計資訊含一般、零股、盤後定價，不含鉅額、拍賣、標購。', 'ETF證券代號第六碼為K、M、S、C者，表示該ETF以外幣交易。']}\n"
     ]
    }
   ],
   "source": [
    "# 儲存擷取之 json 資料\n",
    "\n",
    "import json\n",
    "\n",
    "jdata = json.loads(data.text)  # json.loads 將 str 資料轉為 dict\n",
    "print(jdata)"
   ]
  },
  {
   "cell_type": "code",
   "execution_count": 16,
   "metadata": {},
   "outputs": [
    {
     "name": "stdout",
     "output_type": "stream",
     "text": [
      "<class 'str'>\n",
      "<class 'dict'>\n"
     ]
    }
   ],
   "source": [
    "# 觀看資料型別\n",
    "\n",
    "print(type(data.text))\n",
    "print(type(jdata))"
   ]
  },
  {
   "cell_type": "code",
   "execution_count": 18,
   "metadata": {},
   "outputs": [],
   "source": [
    "# 將資料寫入 csv 檔案\n",
    "\n",
    "# print(jdata['fields'])\n",
    "# for line in jdata['data']:\n",
    "#     print(line)\n",
    "\n",
    "import csv\n",
    "\n",
    "f = open('stock.csv', 'w', newline='', encoding='utf-8-sig')\n",
    "writer = csv.writer(f)\n",
    "writer.writerow(jdata['fields'])\n",
    "\n",
    "for line in jdata['data']:\n",
    "    writer.writerow(line)\n",
    "    \n",
    "f.close()"
   ]
  },
  {
   "cell_type": "markdown",
   "metadata": {},
   "source": [
    "# 整合程式碼\n",
    "\n",
    "將上述分開撰寫的程式，合併至一個 cell 執行"
   ]
  },
  {
   "cell_type": "code",
   "execution_count": 1,
   "metadata": {},
   "outputs": [],
   "source": [
    "# 匯入套件\n",
    "import requests, json, csv\n",
    "\n",
    "# 使用例外判斷擷取資料\n",
    "url = 'https://www.twse.com.tw/exchangeReport/STOCK_DAY?response=json&date=20200301&stockNo=2317'\n",
    "\n",
    "try:\n",
    "    data = requests.get(url)\n",
    "except Exception as e:\n",
    "    print('**WARRN: 擷取失敗')\n",
    "    print('錯誤訊息', e)\n",
    "else:\n",
    "    #print(data.text[:1000])\n",
    "    jdata = json.loads(data.text)  # json.loads 將 str 資料轉為 dict\n",
    "    \n",
    "    # 將資料寫入 csv 檔案\n",
    "    f = open('stock.csv', 'w', newline='', encoding='utf-8-sig')\n",
    "    writer = csv.writer(f)\n",
    "    writer.writerow(jdata['fields'])\n",
    "\n",
    "    for line in jdata['data']:\n",
    "        writer.writerow(line)\n",
    "\n",
    "    f.close()"
   ]
  },
  {
   "cell_type": "code",
   "execution_count": null,
   "metadata": {},
   "outputs": [],
   "source": []
  }
 ],
 "metadata": {
  "kernelspec": {
   "display_name": "Python 3",
   "language": "python",
   "name": "python3"
  },
  "language_info": {
   "codemirror_mode": {
    "name": "ipython",
    "version": 3
   },
   "file_extension": ".py",
   "mimetype": "text/x-python",
   "name": "python",
   "nbconvert_exporter": "python",
   "pygments_lexer": "ipython3",
   "version": "3.7.3"
  }
 },
 "nbformat": 4,
 "nbformat_minor": 2
}
