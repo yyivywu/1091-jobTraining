{
 "cells": [
  {
   "cell_type": "markdown",
   "metadata": {},
   "source": [
    "# Pandas 套件－資料分析必學入門\n",
    "* Pandas 之於 Python，就好比 Excel 之於 Windows\n",
    "* 主要用於大數據分析、機器學習、時間序列分析等\n",
    "\n",
    "### Pandas主要有兩大資料結構：\n",
    "* Series 欄位 (一維度)：由 index (譬如：時間，稱為時間曲線 Time series) 及數值組成的一條序列\n",
    "* DataFrame 表格 (二維度)：N 條 series 共用同一個 index\n",
    "\n",
    "Pandas 官方文件：[網站](https://pandas.pydata.org/pandas-docs/stable/reference/api/pandas.Series.html)"
   ]
  },
  {
   "cell_type": "code",
   "execution_count": 2,
   "metadata": {},
   "outputs": [],
   "source": [
    "import pandas as pd"
   ]
  },
  {
   "cell_type": "code",
   "execution_count": 4,
   "metadata": {},
   "outputs": [],
   "source": [
    "#利用 pd.DataFrame 函式建立二維表格 dataframe\n",
    "\n",
    "datas = [[65,92,78,88], [90,91,60,55], [80,40,99,78]]\n",
    "indexs = [\"王大一\", \"張美麗\", \"林田山\"]\n",
    "columns = [\"國文\", \"數學\", \"英文\", \"自然\"]\n",
    "\n",
    "df = pd.DataFrame(datas, columns=columns, index=indexs)\n",
    "df"
   ]
  },
  {
   "cell_type": "code",
   "execution_count": 6,
   "metadata": {},
   "outputs": [],
   "source": [
    "# DataFrame 可以想像成很多條 Time Series\n",
    "\n",
    "date = pd.date_range('20200210', periods=5)\n",
    "\n",
    "s1 = pd.Series([42.4, 42.6, 42.8, 43.15, 43.2], index=date)\n",
    "s2 = pd.Series([327.5, 331.5, 335, 335, 335], index=date)\n",
    "s3 = pd.Series([28.7, 28.75, 28.75, 29, 28.9], index=date)\n",
    "\n",
    "data = {'台泥':s1, '台積電':s2, '玉山金':s3}\n",
    "\n",
    "df = pd.DataFrame(data)\n",
    "df"
   ]
  },
  {
   "cell_type": "markdown",
   "metadata": {},
   "source": [
    "# 查找資料\n",
    "\n",
    "* loc[]：使用索引值 (index)，先列標籤後行標籤，以逗號分隔\n",
    "* iloc[]：使用資料存放的位置，依據列數及行數進行索引"
   ]
  },
  {
   "cell_type": "code",
   "execution_count": 8,
   "metadata": {},
   "outputs": [],
   "source": [
    "df.loc['20200210']\n",
    "#df.loc['20200210':'20200213']\n",
    "#df.iloc[3]\n",
    "#df.iloc[0:4]"
   ]
  },
  {
   "cell_type": "code",
   "execution_count": 10,
   "metadata": {},
   "outputs": [],
   "source": [
    "df.loc['20200210':'20200213', '台泥':'台積電']\n",
    "#df.iloc[1:3, 0:2]"
   ]
  },
  {
   "cell_type": "code",
   "execution_count": 12,
   "metadata": {},
   "outputs": [],
   "source": [
    "# DataFrame 常用函式\n",
    "\n",
    "df.max()\n",
    "#df.min()\n",
    "#df.mean()\n",
    "#df.std()"
   ]
  },
  {
   "cell_type": "code",
   "execution_count": 14,
   "metadata": {},
   "outputs": [],
   "source": [
    "#print(df)\n",
    "#df.cumsum() \n",
    "#df.cumprod()"
   ]
  },
  {
   "cell_type": "code",
   "execution_count": 16,
   "metadata": {},
   "outputs": [],
   "source": [
    "# 找出索引值 (即日期)\n",
    "\n",
    "s1 = df['玉山金']\n",
    "s1[s1 == s1.max()].index"
   ]
  },
  {
   "cell_type": "code",
   "execution_count": 18,
   "metadata": {},
   "outputs": [],
   "source": [
    "# DataFrame 移動窗格\n",
    "\n",
    "df.rolling(2).sum() \n",
    "#df.rolling(3).max()\n",
    "#df.rolling(3).min()\n",
    "#df.rolling(2).mean()\n",
    "#df.rolling(2).std()"
   ]
  },
  {
   "cell_type": "markdown",
   "metadata": {},
   "source": [
    "# DataFrame 專屬功能 (Series 沒有)"
   ]
  },
  {
   "cell_type": "code",
   "execution_count": 20,
   "metadata": {},
   "outputs": [],
   "source": [
    "# 取出單一行\n",
    "\n",
    "df['台積電']"
   ]
  },
  {
   "cell_type": "code",
   "execution_count": 22,
   "metadata": {},
   "outputs": [],
   "source": [
    "print(df)\n",
    "df.cumsum(axis=1)  # 預設為列累加 axis=0"
   ]
  },
  {
   "cell_type": "markdown",
   "metadata": {},
   "source": [
    "# DataFrame 操作"
   ]
  },
  {
   "cell_type": "code",
   "execution_count": 23,
   "metadata": {},
   "outputs": [],
   "source": [
    "df.head(3)\n",
    "#df.tail(10)\n",
    "#df.columns\n",
    "#df.index\n",
    "#len(df)\n",
    "#df.shape\n",
    "#df.describe()\n",
    "#df.info()"
   ]
  },
  {
   "cell_type": "markdown",
   "metadata": {},
   "source": [
    "# 删除一列或一欄：drop 函式\n",
    "\n",
    "    DataFrame.drop(labels=None, axis=0, index=None, columns=None, inplace=False)\n",
    "    \n",
    "參數說明：\n",
    "* labels：要刪除的列或行的名稱\n",
    "* axis：預設為 0，表示刪除列(row)，若要刪除行(column)，要設定 axis=1\n",
    "* index：指定要刪除的列\n",
    "* columns：指定要刪除的行\n",
    "* inplace：預設為 False，表示不會改變原 Dataframe 資料；True 則會直接在原 DataFrame 進行刪除動作"
   ]
  },
  {
   "cell_type": "code",
   "execution_count": 26,
   "metadata": {},
   "outputs": [],
   "source": [
    "#利用 pd.DataFrame 函式建立二維表格 dataframe\n",
    "\n",
    "datas = [[65,92,78,88], [90,91,60,55], [80,40,99,78]]\n",
    "indexs = [\"王大一\", \"張美麗\", \"林田山\"]\n",
    "columns = [\"國文\", \"數學\", \"英文\", \"自然\"]\n",
    "\n",
    "df = pd.DataFrame(datas, columns=columns, index=indexs)\n",
    "df"
   ]
  },
  {
   "cell_type": "code",
   "execution_count": 28,
   "metadata": {},
   "outputs": [],
   "source": [
    "df.drop('王大一')"
   ]
  },
  {
   "cell_type": "code",
   "execution_count": 32,
   "metadata": {},
   "outputs": [],
   "source": [
    "df.drop(['國文', '英文'], axis=1)"
   ]
  },
  {
   "cell_type": "code",
   "execution_count": 56,
   "metadata": {},
   "outputs": [],
   "source": [
    "df.drop(index='張美麗' , columns='英文', inplace=True)\n",
    "#df.drop(index='張美麗' , columns='英文')"
   ]
  },
  {
   "cell_type": "code",
   "execution_count": 35,
   "metadata": {},
   "outputs": [],
   "source": [
    "# date = pd.date_range('20200210', periods=5)\n",
    "\n",
    "s1 = pd.Series([42.4, 42.6, 42.8, 43.15, 43.2], index=date)\n",
    "s2 = pd.Series([327.5, 331.5, 335, 335, 335], index=date)\n",
    "s3 = pd.Series([28.7, 28.75, 28.75, 29, 28.9], index=date)\n",
    "\n",
    "data = {'台泥' : s1, '台積電' : s2, '玉山金': s3}\n",
    "\n",
    "df = pd.DataFrame(data)\n",
    "df"
   ]
  },
  {
   "cell_type": "code",
   "execution_count": 37,
   "metadata": {},
   "outputs": [],
   "source": [
    "# 刪除日期型態的列索引資料\n",
    "\n",
    "df.drop(pd.Timestamp('2020-02-11'))"
   ]
  },
  {
   "cell_type": "markdown",
   "metadata": {},
   "source": [
    "# 空值或缺失值處理\n",
    "\n",
    "在 pandas 中空值為 \"\"；在 dataframe 中缺失值為 nan 或 naT (缺失時間)；在 series 中缺失值為 none 或 nan\n",
    "\n",
    "相關函式：\n",
    "* dropna()：刪除含有空值或缺失值的列或行\n",
    "* fillna()：填充缺失值\n",
    "* isna()：判斷是否為缺失值\n",
    "* isnull()：判斷是否為缺失值，與 isna 相同，建議使用 isna"
   ]
  },
  {
   "cell_type": "code",
   "execution_count": 42,
   "metadata": {},
   "outputs": [],
   "source": [
    "# 建立一個 5x3 的 Dataframe\n",
    "\n",
    "df = pd.DataFrame([[0,1,2],\n",
    "                  [3,4,None],\n",
    "                  [None,7,8],\n",
    "                  [9,10,11],\n",
    "                  [pd.NaT,13,14]],\n",
    "                  index=list('abcde'),columns=list('ABC'))\n",
    "df"
   ]
  },
  {
   "cell_type": "code",
   "execution_count": 45,
   "metadata": {},
   "outputs": [],
   "source": [
    "df.dropna()  #刪除含有空值或缺失值的列\n",
    "#df.dropna(axis=1)  #刪除含有空值或缺失值的欄"
   ]
  },
  {
   "cell_type": "code",
   "execution_count": 47,
   "metadata": {},
   "outputs": [],
   "source": [
    "df.fillna(value='0')  #用 0 填充缺失值"
   ]
  },
  {
   "cell_type": "code",
   "execution_count": 49,
   "metadata": {},
   "outputs": [],
   "source": [
    "df.isna()\n",
    "#df.isnull()"
   ]
  },
  {
   "cell_type": "code",
   "execution_count": null,
   "metadata": {},
   "outputs": [],
   "source": []
  }
 ],
 "metadata": {
  "kernelspec": {
   "display_name": "Python 3",
   "language": "python",
   "name": "python3"
  },
  "language_info": {
   "codemirror_mode": {
    "name": "ipython",
    "version": 3
   },
   "file_extension": ".py",
   "mimetype": "text/x-python",
   "name": "python",
   "nbconvert_exporter": "python",
   "pygments_lexer": "ipython3",
   "version": "3.7.3"
  }
 },
 "nbformat": 4,
 "nbformat_minor": 2
}
