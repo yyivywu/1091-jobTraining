{
 "cells": [
  {
   "cell_type": "markdown",
   "metadata": {},
   "source": [
    "# Pandas 繪圖功能\n",
    "\n",
    "官網文件：[DataFrame Plot](https://pandas.pydata.org/pandas-docs/version/0.25.3/reference/frame.html)、[參數設定](https://pandas.pydata.org/pandas-docs/version/0.24.2/reference/api/pandas.Series.plot.html)"
   ]
  },
  {
   "cell_type": "code",
   "execution_count": 1,
   "metadata": {},
   "outputs": [],
   "source": [
    "import pandas as pd\n",
    "import matplotlib.pyplot as plt\n",
    "%matplotlib inline"
   ]
  },
  {
   "cell_type": "code",
   "execution_count": 2,
   "metadata": {},
   "outputs": [],
   "source": [
    "# 使用 date_range 自動產生時間索引值\n",
    "\n",
    "date = pd.date_range('20200203', periods=5)\n",
    "print(date)\n",
    "stock = pd.Series([97.3, 87.6, 78.9, 72.6, 77.6], index=date)\n",
    "print(stock)\n",
    "stock.plot()"
   ]
  },
  {
   "cell_type": "code",
   "execution_count": 3,
   "metadata": {},
   "outputs": [],
   "source": [
    "# DataFrame 可以想像成很多條 Time Series\n",
    "\n",
    "date = pd.date_range('20200203', periods=5)\n",
    "s1 = pd.Series([97.3, 87.6, 78.9, 72.6, 77.6], index=date)\n",
    "s2 = pd.Series([75.5, 77.1, 77, 77.5, 78.5], index=date)\n",
    "data = {'花仙子': s1, '智冠': s2}\n",
    "df = pd.DataFrame(data)\n",
    "print(df)\n",
    "df.plot()"
   ]
  },
  {
   "cell_type": "code",
   "execution_count": 4,
   "metadata": {},
   "outputs": [],
   "source": [
    "# 指定 X,Y 軸資料\n",
    "\n",
    "data = {'Year': [1920,1930,1940,1950,1960,1970,1980,1990,2000,2010],\n",
    "        'Rate': [9.8,12,8,7.2,6.9,7,6.5,6.2,5.5,6.3]}\n",
    "\n",
    "df = pd.DataFrame(data,columns=['Year','Rate'])\n",
    "print(df)\n",
    "df.plot(x='Year', y='Rate')"
   ]
  },
  {
   "cell_type": "code",
   "execution_count": 5,
   "metadata": {},
   "outputs": [],
   "source": [
    "# 參數設定\n",
    "\n",
    "df.plot(x='Year', y='Rate', color='green', marker='o', ls='-')\n",
    "#df.plot(x='Year', y='Rate', title='股價圖', figsize=(10,6))\n",
    "#df.plot(x='Year', y='Rate', fontsize=12, ylim=(4,13), grid=True)\n",
    "#df.plot(x='Year', y='Rate', yticks=(4,6,8,10,12,14))"
   ]
  },
  {
   "cell_type": "markdown",
   "metadata": {},
   "source": [
    "# 讀取 csv 檔繪圖"
   ]
  },
  {
   "cell_type": "code",
   "execution_count": 6,
   "metadata": {},
   "outputs": [],
   "source": [
    "# 繪製個股全年日收盤價統計圖\n",
    "\n",
    "#pd.options.mode.chained_assignment = None  #取消顯示pandas警告訊息\n",
    "\n",
    "filename = 'h2-stock-2884-2019.csv'\n",
    "df = pd.read_csv(filename, encoding='utf-8-sig')\n",
    "\n",
    "# 分解動作\n",
    "# print(df['日期'].head(3))\n",
    "# df['日期'] = df['日期'].str.replace('/','').astype(int)\n",
    "# print(df['日期'].head(3))\n",
    "# df['日期'] = df['日期']+19110000\n",
    "# df['日期'].head(3)\n",
    "\n",
    "df['日期'] = df['日期'].str.replace('/','').astype(int)+19110000\n",
    "df['日期'] = pd.to_datetime(df['日期'].astype(str))\n",
    "\n",
    "df.plot(x='日期', y='收盤價', figsize=(12, 6)) "
   ]
  },
  {
   "cell_type": "code",
   "execution_count": 7,
   "metadata": {},
   "outputs": [],
   "source": [
    "# 繪製多條價格線\n",
    "\n",
    "df.plot(x='日期', y=['收盤價', '最低價', '最高價'], figsize=(12, 6))"
   ]
  },
  {
   "cell_type": "code",
   "execution_count": 8,
   "metadata": {},
   "outputs": [],
   "source": [
    "# 繪製多個圖\n",
    "\n",
    "filename = 'h2-stock-2884-2019.csv'\n",
    "df = pd.read_csv(filename, encoding='utf-8-sig')\n",
    "\n",
    "df['成交金額'] = df['成交金額'].str.replace(',','').astype('int64')  # 轉換資料型別\n",
    "\n",
    "df.plot(x='日期', y='收盤價', figsize=(12, 4)) \n",
    "df.plot(x='日期', y='成交金額', figsize=(12, 4))"
   ]
  },
  {
   "cell_type": "code",
   "execution_count": 9,
   "metadata": {},
   "outputs": [],
   "source": [
    "# 繪製雙Y軸線圖\n",
    "\n",
    "filename = 'h2-stock-2884-2019.csv'\n",
    "df = pd.read_csv(filename, encoding='utf-8-sig')\n",
    "\n",
    "df['日期'] = df['日期'].str.replace('/','').astype(int)+19110000\n",
    "df['日期'] = pd.to_datetime(df['日期'].astype(str))\n",
    "df.set_index('日期', inplace=True)\n",
    "\n",
    "df['成交金額'] = df['成交金額'].str.replace(',','').astype('int64')  # 轉換資料型別\n",
    "\n",
    "df.收盤價.plot(figsize=(12, 6), label='price')\n",
    "plt.legend()\n",
    "df.成交金額.plot(secondary_y=True, label='amount')\n",
    "plt.legend()"
   ]
  },
  {
   "cell_type": "code",
   "execution_count": 10,
   "metadata": {},
   "outputs": [],
   "source": [
    "# 繪製雙Y軸線圖\n",
    "\n",
    "filename = 'h2-stock-2884-2019.csv'\n",
    "df = pd.read_csv(filename, encoding='utf-8-sig')\n",
    "\n",
    "df['日期'] = df['日期'].str.replace('/','').astype(int)+19110000\n",
    "df['日期'] = pd.to_datetime(df['日期'].astype(str))\n",
    "df['成交金額'] = df['成交金額'].str.replace(',','').astype('int64')  # 轉換資料型別\n",
    "\n",
    "df1 = df[['日期','收盤價','成交金額']]\n",
    "#df1\n",
    "\n",
    "plt.rcParams['figure.figsize'] = (12, 6) \n",
    "df1.plot(x='日期', secondary_y='成交金額') \n",
    "#df1.plot(x='日期', secondary_y='成交金額', mark_right=False) "
   ]
  },
  {
   "cell_type": "code",
   "execution_count": 11,
   "metadata": {},
   "outputs": [],
   "source": [
    "# 限定繪圖日期區間\n",
    "\n",
    "filename = 'h2-stock-2330-2019.csv'\n",
    "df = pd.read_csv(filename, encoding='utf-8-sig')\n",
    "\n",
    "df['日期'] = df['日期'].str.replace('/','').astype(int)+19110000\n",
    "df['日期'] = pd.to_datetime(df['日期'].astype(str))\n",
    "df['成交金額'] = df['成交金額'].str.replace(',','').astype('int64')  # 轉換資料型別\n",
    "df.set_index('日期', inplace=True)\n",
    "\n",
    "df['收盤價']['2019-10':'2019-12'].plot(figsize=(12, 6), label='price')\n",
    "#df['收盤價']['2019-12'].plot(figsize=(12, 6), label='price')\n",
    "plt.legend()\n",
    "df['成交金額']['2019-10':'2019-12'].plot(secondary_y=True, label='amount')\n",
    "#df['成交金額']['2019-12'].plot(secondary_y=True, label='amount')\n",
    "plt.legend()"
   ]
  },
  {
   "cell_type": "code",
   "execution_count": null,
   "metadata": {},
   "outputs": [],
   "source": []
  }
 ],
 "metadata": {
  "kernelspec": {
   "display_name": "Python 3",
   "language": "python",
   "name": "python3"
  },
  "language_info": {
   "codemirror_mode": {
    "name": "ipython",
    "version": 3
   },
   "file_extension": ".py",
   "mimetype": "text/x-python",
   "name": "python",
   "nbconvert_exporter": "python",
   "pygments_lexer": "ipython3",
   "version": "3.7.3"
  }
 },
 "nbformat": 4,
 "nbformat_minor": 2
}
