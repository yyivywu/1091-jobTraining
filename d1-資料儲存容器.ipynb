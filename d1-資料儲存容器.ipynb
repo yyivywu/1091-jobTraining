{
 "cells": [
  {
   "attachments": {},
   "cell_type": "markdown",
   "metadata": {},
   "source": [
    "# 台股追蹤列表 - list"
   ]
  },
  {
   "cell_type": "code",
   "execution_count": 8,
   "metadata": {},
   "outputs": [
    {
     "name": "stdout",
     "output_type": "stream",
     "text": [
      "請輸入股票代碼：2330\n",
      "請輸入股票代碼：2317\n",
      "請輸入股票代碼：1101\n",
      "請輸入股票代碼：1301\n",
      "請輸入股票代碼：2884\n",
      "['2330', '2317', '1101', '1301', '2884']\n"
     ]
    }
   ],
   "source": [
    "# 輸入五個台股名稱，加入串列中\n",
    "\n",
    "stock = []\n",
    "for i in range(5):\n",
    "    sid = input('請輸入股票代碼：')\n",
    "    stock.append(sid)\n",
    "print (stock)"
   ]
  },
  {
   "cell_type": "code",
   "execution_count": 9,
   "metadata": {},
   "outputs": [
    {
     "name": "stdout",
     "output_type": "stream",
     "text": [
      "2330 2317\n",
      "['2330', '2317', '1301', '2884']\n"
     ]
    },
    {
     "data": {
      "text/plain": [
       "['2330', '9941', '2317', '1301']"
      ]
     },
     "execution_count": 9,
     "metadata": {},
     "output_type": "execute_result"
    }
   ],
   "source": [
    "#顯示最先加入的兩個名稱\n",
    "print(stock[0], stock[1])\n",
    "\n",
    "#刪除第3個名稱\n",
    "stock.remove('1101')\n",
    "print(stock)\n",
    "\n",
    "#插入一個新個股到第2個位置\n",
    "stock.insert(1, '9941')\n",
    "\n",
    "#接著移除最後加入的一個名稱\n",
    "stock.pop()\n",
    "stock"
   ]
  },
  {
   "attachments": {},
   "cell_type": "markdown",
   "metadata": {},
   "source": [
    "# 切割及反轉字串"
   ]
  },
  {
   "cell_type": "code",
   "execution_count": 14,
   "metadata": {},
   "outputs": [
    {
     "name": "stdout",
     "output_type": "stream",
     "text": [
      "請輸入一個英文句子：an apple a day keeps the doctor away\n",
      "['an', 'apple', 'a', 'day', 'keeps', 'the', 'doctor', 'away']\n",
      "反轉： ['away', 'doctor', 'the', 'keeps', 'day', 'a', 'apple', 'an']\n"
     ]
    }
   ],
   "source": [
    "sentence = input('請輸入一個英文句子：')\n",
    "\n",
    "slist = sentence.split(' ')\n",
    "print(slist)\n",
    "slist.reverse()\n",
    "print('反轉：', slist)"
   ]
  },
  {
   "attachments": {},
   "cell_type": "markdown",
   "metadata": {},
   "source": [
    "# 英翻中字典"
   ]
  },
  {
   "cell_type": "code",
   "execution_count": 32,
   "metadata": {},
   "outputs": [
    {
     "name": "stdout",
     "output_type": "stream",
     "text": [
      "請輸入英文單詞（輸入-1結束）：dog\n",
      "請輸入對應的中文詞：狗\n",
      "請輸入英文單詞（輸入-1結束）：cat\n",
      "請輸入對應的中文詞：貓\n",
      "請輸入英文單詞（輸入-1結束）：pig\n",
      "請輸入對應的中文詞：豬\n",
      "請輸入英文單詞（輸入-1結束）：fish\n",
      "請輸入對應的中文詞：魚\n",
      "請輸入英文單詞（輸入-1結束）：-1\n",
      "{'dog': '狗', 'cat': '貓', 'pig': '豬', 'fish': '魚'}\n"
     ]
    }
   ],
   "source": [
    "ecDict = {}\n",
    "\n",
    "while True:\n",
    "    en = input('請輸入英文單詞（輸入-1結束）：')\n",
    "    if en == '-1':\n",
    "        break\n",
    "    ch = input('請輸入對應的中文詞：')\n",
    "    ecDict[en] = ch\n",
    "print (ecDict)"
   ]
  },
  {
   "cell_type": "code",
   "execution_count": 33,
   "metadata": {},
   "outputs": [
    {
     "name": "stdout",
     "output_type": "stream",
     "text": [
      "dog 狗\n",
      "cat 貓\n",
      "pig 豬\n",
      "fish 魚\n"
     ]
    }
   ],
   "source": [
    "for en in ecDict.keys():\n",
    "    print(en, ecDict[en])"
   ]
  },
  {
   "cell_type": "code",
   "execution_count": 34,
   "metadata": {},
   "outputs": [
    {
     "name": "stdout",
     "output_type": "stream",
     "text": [
      "請輸入一個英文單詞：deer\n",
      "字典中無此單詞\n"
     ]
    }
   ],
   "source": [
    "s = input('請輸入一個英文單詞：')\n",
    "print(ecDict.get(s, '字典中無此單詞'))"
   ]
  },
  {
   "attachments": {},
   "cell_type": "markdown",
   "metadata": {},
   "source": [
    "# 複雜的結構"
   ]
  },
  {
   "cell_type": "code",
   "execution_count": 35,
   "metadata": {},
   "outputs": [
    {
     "name": "stdout",
     "output_type": "stream",
     "text": [
      "['Jan', 'Feb', 'Mar', 'Apr', 'May', 'Jun', 'Jul', 'Aug', 'Sep', 'Oct', 'Nov', 'Dec']\n",
      "Aug\n",
      "Tuesday\n"
     ]
    }
   ],
   "source": [
    "星期 = ['Sunday', 'Monday', 'Tuesday', 'Wednesday', 'Thursday', 'Friday', 'Saturday']\n",
    "月份 = ['Jan', 'Feb', 'Mar', 'Apr', 'May', 'Jun', 'Jul', 'Aug', 'Sep', 'Oct', 'Nov', 'Dec']\n",
    "\n",
    "dic = {'week':星期, 'month':月份}\n",
    "\n",
    "print(dic['month'])\n",
    "print(dic['month'][7])\n",
    "print(dic['week'][2])"
   ]
  },
  {
   "attachments": {},
   "cell_type": "markdown",
   "metadata": {},
   "source": [
    "# 找出一首詩的所有字"
   ]
  },
  {
   "cell_type": "code",
   "execution_count": 40,
   "metadata": {},
   "outputs": [
    {
     "name": "stdout",
     "output_type": "stream",
     "text": [
      "{'夜', '鳥', '聞', '雨', '覺', '不', '眠', '落', '春', '聲', '花', '來', '風', '少', '曉', '知', '處', '多', '啼'}\n"
     ]
    }
   ],
   "source": [
    "poem = '春眠不覺曉，處處聞啼鳥。夜來風雨聲，花落知多少。'\n",
    "poem = poem.replace('，','')\n",
    "poem = poem.replace('。','')\n",
    "pset = set(poem)\n",
    "print(pset)"
   ]
  },
  {
   "attachments": {},
   "cell_type": "markdown",
   "metadata": {},
   "source": [
    "# 找出及格的人"
   ]
  },
  {
   "cell_type": "code",
   "execution_count": 41,
   "metadata": {},
   "outputs": [
    {
     "name": "stdout",
     "output_type": "stream",
     "text": [
      "數學及英文都及格的人： {'吳三', '林六'}\n",
      "數學不及格的人： {'陸五', '王二', '文八', '許九', '丁一'}\n",
      "英文及格，數學不及格的人： {'陸五', '許九', '王二'}\n",
      "兩科都不及格的人： {'文八', '丁一'}\n"
     ]
    }
   ],
   "source": [
    "全班同學 = set(['丁一', '王二', '吳三', '李四', '陸五', '林六', '官七', '文八', '許九'])\n",
    "英文及格 = set(['王二', '吳三', '陸五', '林六', '許九'])\n",
    "數學及格 = set(['吳三', '李四', '林六', '官七'])\n",
    "\n",
    "# 數學及英文都及格的人\n",
    "print('數學及英文都及格的人：', 英文及格 & 數學及格)\n",
    "\n",
    "# 數學不及格的人\n",
    "print('數學不及格的人：', 全班同學 - 數學及格)\n",
    "\n",
    "# 英文及格，數學不及格的人\n",
    "print('英文及格，數學不及格的人：', 英文及格 & (全班同學 - 數學及格))\n",
    "\n",
    "# 兩科都不及格的人\n",
    "print('兩科都不及格的人：', (全班同學 - 數學及格) - 英文及格)"
   ]
  },
  {
   "attachments": {},
   "cell_type": "markdown",
   "metadata": {},
   "source": [
    "# 找出兩首詩共同的字"
   ]
  },
  {
   "cell_type": "code",
   "execution_count": 43,
   "metadata": {},
   "outputs": [
    {
     "name": "stdout",
     "output_type": "stream",
     "text": [
      "{'來', '多', '春'}\n"
     ]
    }
   ],
   "source": [
    "王維 = '紅豆生南國，春來發幾枝？願君多采擷，此物最相思。'\n",
    "poem = '春眠不覺曉，處處聞啼鳥。夜來風雨聲，花落知多少。'\n",
    "\n",
    "p1 = set(王維)\n",
    "p2 = set(poem)\n",
    "p3 = p1 & p2\n",
    "p3.remove('，')\n",
    "p3.remove('。')\n",
    "print(p3)"
   ]
  },
  {
   "cell_type": "code",
   "execution_count": null,
   "metadata": {},
   "outputs": [],
   "source": []
  }
 ],
 "metadata": {
  "kernelspec": {
   "display_name": "Python 3",
   "language": "python",
   "name": "python3"
  },
  "language_info": {
   "codemirror_mode": {
    "name": "ipython",
    "version": 3
   },
   "file_extension": ".py",
   "mimetype": "text/x-python",
   "name": "python",
   "nbconvert_exporter": "python",
   "pygments_lexer": "ipython3",
   "version": "3.7.3"
  }
 },
 "nbformat": 4,
 "nbformat_minor": 2
}
