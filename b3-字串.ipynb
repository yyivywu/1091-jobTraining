{
 "cells": [
  {
   "cell_type": "markdown",
   "metadata": {},
   "source": [
    "# 字串"
   ]
  },
  {
   "cell_type": "code",
   "execution_count": 1,
   "metadata": {},
   "outputs": [
    {
     "name": "stdout",
     "output_type": "stream",
     "text": [
      "作者 \"孟浩然\"，詩名 \"春曉\"\n",
      "作者 '孟浩然'，詩名 '春曉'\n"
     ]
    }
   ],
   "source": [
    "# 字串可使用單引號 (') 或雙引號 (\") 包夾\n",
    "\n",
    "s1 = '作者 \"孟浩然\"，詩名 \"春曉\"'\n",
    "print (s1)\n",
    "s2 = \"作者 '孟浩然'，詩名 '春曉'\"\n",
    "print (s2)"
   ]
  },
  {
   "cell_type": "code",
   "execution_count": 3,
   "metadata": {},
   "outputs": [
    {
     "name": "stdout",
     "output_type": "stream",
     "text": [
      "春眠不覺曉，處處聞啼鳥。\n",
      "夜來風雨聲，花落知多少。\n"
     ]
    }
   ],
   "source": [
    "# 多行文字, 使用三個單引號或雙引號\n",
    "\n",
    "s3 = '''春眠不覺曉，處處聞啼鳥。\n",
    "夜來風雨聲，花落知多少。'''\n",
    "print (s3)"
   ]
  },
  {
   "cell_type": "code",
   "execution_count": 4,
   "metadata": {},
   "outputs": [
    {
     "data": {
      "text/plain": [
       "'01234abcde'"
      ]
     },
     "execution_count": 4,
     "metadata": {},
     "output_type": "execute_result"
    }
   ],
   "source": [
    "# 使用 + 串接字串\n",
    "\n",
    "s1 = '01234'\n",
    "s2 = 'abcde'\n",
    "s3 = s1 + s2\n",
    "s3"
   ]
  },
  {
   "cell_type": "code",
   "execution_count": 5,
   "metadata": {},
   "outputs": [
    {
     "data": {
      "text/plain": [
       "'abcabcabc'"
      ]
     },
     "execution_count": 5,
     "metadata": {},
     "output_type": "execute_result"
    }
   ],
   "source": [
    "# 使用 * 複製字串\n",
    "\n",
    "s4 = 'abc'\n",
    "s5 = s4 * 3\n",
    "s5"
   ]
  },
  {
   "cell_type": "code",
   "execution_count": 6,
   "metadata": {},
   "outputs": [
    {
     "name": "stdout",
     "output_type": "stream",
     "text": [
      "0\n",
      "3\n",
      "9\n",
      "7\n"
     ]
    }
   ],
   "source": [
    "# 使用 [] 取出字串中的元素\n",
    "\n",
    "s6 = '0123456789'\n",
    "print(s6[0])\n",
    "print(s6[3])\n",
    "print(s6[-1])\n",
    "print(s6[-3])"
   ]
  },
  {
   "cell_type": "code",
   "execution_count": 7,
   "metadata": {},
   "outputs": [
    {
     "name": "stdout",
     "output_type": "stream",
     "text": [
      "s[:] = 0123456789\n"
     ]
    }
   ],
   "source": [
    "# 取出一段文字\n",
    "\n",
    "s = '0123456789'\n",
    "print('s[:] =', s[:])"
   ]
  },
  {
   "cell_type": "code",
   "execution_count": 8,
   "metadata": {},
   "outputs": [
    {
     "name": "stdout",
     "output_type": "stream",
     "text": [
      "s[5:] = 56789\n",
      "s[:5] = 01234\n",
      "s[-2:] = 89\n",
      "s[7:9] = 78\n",
      "s[2:10:2] = 2468\n",
      "s[-4:-1] = 678\n",
      "9876543210\n"
     ]
    }
   ],
   "source": [
    "s = '0123456789'\n",
    "print('s[5:] =', s[5:])\n",
    "print('s[:5] =', s[:5])\n",
    "print('s[-2:] =', s[-2:])\n",
    "print('s[7:9] =', s[7:9])\n",
    "print('s[2:10:2] =', s[2:10:2])\n",
    "print('s[-4:-1] =', s[-4:-1])\n",
    "print(s[::-1])"
   ]
  },
  {
   "cell_type": "code",
   "execution_count": 9,
   "metadata": {},
   "outputs": [
    {
     "name": "stdout",
     "output_type": "stream",
     "text": [
      "春眠不覺曉，處處聞啼鳥。夜來風雨聲，花落知多少。\n"
     ]
    }
   ],
   "source": [
    "# 使用 \\ 串接多行字串\n",
    "\n",
    "s1 = '春眠不覺曉，處處聞啼鳥。\\\n",
    "夜來風雨聲，花落知多少。'\n",
    "\n",
    "print(s1)"
   ]
  },
  {
   "cell_type": "code",
   "execution_count": 10,
   "metadata": {},
   "outputs": [
    {
     "name": "stdout",
     "output_type": "stream",
     "text": [
      "春眠不覺曉，處處聞啼鳥。\n",
      "夜來風雨聲，花落知多少。\n",
      "\t 孟浩然 春曉\n"
     ]
    }
   ],
   "source": [
    "# \\n: 換行；\\t Tab 鍵\n",
    "\n",
    "s2 = '春眠不覺曉，處處聞啼鳥。\\n\\\n",
    "夜來風雨聲，花落知多少。\\n\\\n",
    "\\t 孟浩然 春曉'\n",
    "\n",
    "print(s2)"
   ]
  },
  {
   "cell_type": "code",
   "execution_count": 11,
   "metadata": {},
   "outputs": [
    {
     "name": "stdout",
     "output_type": "stream",
     "text": [
      "len(s1) = 24\n",
      "replace = 冬眠不覺曉，處處聞啼鳥。夜來風雨聲，花落知多少。\n",
      "split = ['春眠不覺曉', '處處聞啼鳥。夜來風雨聲', '花落知多少。']\n"
     ]
    }
   ],
   "source": [
    "# 字串的內建函式\n",
    "\n",
    "s1 = '春眠不覺曉，處處聞啼鳥。夜來風雨聲，花落知多少。'\n",
    "\n",
    "print('len(s1) =', len(s1))\n",
    "print('replace =', s1.replace('春', '冬'))\n",
    "print('split =', s1.split('，'))"
   ]
  },
  {
   "cell_type": "code",
   "execution_count": 12,
   "metadata": {},
   "outputs": [
    {
     "name": "stdout",
     "output_type": "stream",
     "text": [
      "2020-03-07\n",
      "2020/03/07\n"
     ]
    }
   ],
   "source": [
    "s1 = '-'\n",
    "d1 = ['2020', '03', '07']\n",
    "print(s1.join(d1))\n",
    "print('/'.join(d1))"
   ]
  },
  {
   "cell_type": "code",
   "execution_count": null,
   "metadata": {},
   "outputs": [],
   "source": []
  }
 ],
 "metadata": {
  "kernelspec": {
   "display_name": "Python 3",
   "language": "python",
   "name": "python3"
  },
  "language_info": {
   "codemirror_mode": {
    "name": "ipython",
    "version": 3
   },
   "file_extension": ".py",
   "mimetype": "text/x-python",
   "name": "python",
   "nbconvert_exporter": "python",
   "pygments_lexer": "ipython3",
   "version": "3.7.3"
  }
 },
 "nbformat": 4,
 "nbformat_minor": 2
}
