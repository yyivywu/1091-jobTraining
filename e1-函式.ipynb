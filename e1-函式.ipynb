{
 "cells": [
  {
   "cell_type": "markdown",
   "metadata": {},
   "source": [
    "# 內建函式"
   ]
  },
  {
   "cell_type": "code",
   "execution_count": 3,
   "metadata": {},
   "outputs": [
    {
     "name": "stdout",
     "output_type": "stream",
     "text": [
      "串列最大值為 150, 最小值為 7\n"
     ]
    }
   ],
   "source": [
    "# 使用 for 迴圈，找出數值串列中的最大及最小值\n",
    "\n",
    "list1 = [34, 21, 7, 99, 150, 76]\n",
    "maxvalue = list1[0]\n",
    "minvalue = list1[0]\n",
    "\n",
    "for i in range(1,len(list1)):\n",
    "    if list1[i] > maxvalue:\n",
    "        maxvalue = list1[i]\n",
    "    if list1[i] < minvalue:\n",
    "        minvalue = list1[i]\n",
    "        \n",
    "print('串列最大值為 %d, 最小值為 %d' % (maxvalue, minvalue))"
   ]
  },
  {
   "cell_type": "code",
   "execution_count": 5,
   "metadata": {},
   "outputs": [
    {
     "name": "stdout",
     "output_type": "stream",
     "text": [
      "串列最大值為 150, 最小值為 7\n"
     ]
    }
   ],
   "source": [
    "# 使用內建函式，找出數值串列中的最大及最小值\n",
    "\n",
    "list1 = [34, 21, 7, 99, 150, 76]\n",
    "print('串列最大值為 %d, 最小值為 %d' % (max(list1), min(list1)))"
   ]
  },
  {
   "cell_type": "code",
   "execution_count": 6,
   "metadata": {},
   "outputs": [
    {
     "name": "stdout",
     "output_type": "stream",
     "text": [
      "abs(x) 取 x 的絕對值： 45\n",
      "pow(x,y) 取得 x 的 y 次方： 16\n",
      "round(x,y) 取 x 值的四捨五入到 y 小數位數： 3.1416\n"
     ]
    }
   ],
   "source": [
    "# 其他內建函式\n",
    "\n",
    "print('abs(x) 取 x 的絕對值：', abs(-45))\n",
    "print('pow(x,y) 取得 x 的 y 次方：', pow(2,4))\n",
    "print('round(x,y) 取 x 值的四捨五入到 y 小數位數：', round(3.14159356, 4))"
   ]
  },
  {
   "cell_type": "markdown",
   "metadata": {},
   "source": [
    "# 自訂函式\n",
    "\n",
    "## 不回傳值的函式\n",
    "    def 函式名稱([參數1, 參數2, ……]):\n",
    "        程式區塊\n",
    "       \n",
    "\n",
    "## 回傳值的函式\n",
    "    def 函式名稱([參數1, 參數2, ……]):\n",
    "        程式區塊\n",
    "        return 回傳值1[, 回傳值2, ……]\n",
    "        \n",
    "函式用於將相同功能的程式獨立出來，減少程式碼的重覆。藉由函式呼叫，可重覆執行"
   ]
  },
  {
   "cell_type": "code",
   "execution_count": 8,
   "metadata": {},
   "outputs": [
    {
     "name": "stdout",
     "output_type": "stream",
     "text": [
      "歡迎光臨!\n"
     ]
    }
   ],
   "source": [
    "# 建立名稱為 SayHello() 的函式，無回傳值\n",
    "\n",
    "def SayHello():\n",
    "    print( \"歡迎光臨!\")\n",
    "\n",
    "SayHello()"
   ]
  },
  {
   "cell_type": "code",
   "execution_count": 8,
   "metadata": {},
   "outputs": [
    {
     "name": "stdout",
     "output_type": "stream",
     "text": [
      "請輸入攝氏溫度：0\n",
      "華氏溫度為：32.00 度\n"
     ]
    }
   ],
   "source": [
    "# 溫度轉換\n",
    "# 華氏溫度(F) = 攝氏溫度(C) * 9/5 + 32\n",
    "# 攝氏溫度(C) = (華氏溫度(F) - 32) * 5/9\n",
    "\n",
    "def CtoF(c):\n",
    "    f = c *9 / 5 + 32\n",
    "    return f\n",
    "\n",
    "c = float(input('請輸入攝氏溫度：'))\n",
    "degree = CtoF(c)\n",
    "print('華氏溫度為：%3.2f 度' % degree)    "
   ]
  },
  {
   "cell_type": "code",
   "execution_count": 10,
   "metadata": {},
   "outputs": [
    {
     "name": "stdout",
     "output_type": "stream",
     "text": [
      "請輸入寬度：3\n",
      "請輸入長度：8\n",
      "面積為： 24\n"
     ]
    }
   ],
   "source": [
    "# 建立名稱為 GetArea() 的函式，以參數傳入矩形的寬及高，計算矩形面積後將面積值傳回。\n",
    "\n",
    "def GetArea(x, y):\n",
    "    area = x * y\n",
    "    return area\n",
    "\n",
    "width = int(input(\"請輸入寬度：\"))\n",
    "height = int(input(\"請輸入長度：\"))\n",
    "print('面積為：', GetArea(width, height))"
   ]
  },
  {
   "cell_type": "markdown",
   "metadata": {},
   "source": [
    "# 函式與變數的作用範圍\n",
    "\n",
    "變數作用範圍分為「全域變數」與函式內的「區域變數」。宣告在函式外的稱為全域變數，宣告在函式內的稱為區域變數。若函式內沒有設定區域變數，就會往外尋找全域變數。"
   ]
  },
  {
   "cell_type": "code",
   "execution_count": 11,
   "metadata": {},
   "outputs": [
    {
     "name": "stdout",
     "output_type": "stream",
     "text": [
      "副程式內 g: 10\n",
      "主程式 g： 5\n"
     ]
    }
   ],
   "source": [
    "# 全域變數與區域變數\n",
    "\n",
    "def f2():\n",
    "    g = 10\n",
    "    print('副程式內 g:', g)\n",
    "    \n",
    "g = 5\n",
    "f2()\n",
    "print('主程式 g：', g)"
   ]
  },
  {
   "cell_type": "code",
   "execution_count": 15,
   "metadata": {},
   "outputs": [
    {
     "name": "stdout",
     "output_type": "stream",
     "text": [
      "副程式內 g: 5\n",
      "副程式內 g: 10\n",
      "主程式 g： 5\n"
     ]
    }
   ],
   "source": [
    "def f2(g):\n",
    "    print('副程式內 g:', g) \n",
    "    g = 10\n",
    "    print('副程式內 g:', g)\n",
    "    \n",
    "g = 5\n",
    "f2(g)\n",
    "print('主程式 g：', g)"
   ]
  },
  {
   "cell_type": "code",
   "execution_count": 16,
   "metadata": {},
   "outputs": [
    {
     "name": "stdout",
     "output_type": "stream",
     "text": [
      "函式內： 5\n",
      "函式外： 5\n"
     ]
    }
   ],
   "source": [
    "g = 5\n",
    "def f2():\n",
    "    #print(\"函式內：\", g)  # 函式內變數 g 必須先被指定值，才能輸出，否則會產生錯誤\n",
    "    #g = 10\n",
    "    print(\"函式內：\", g)\n",
    "    \n",
    "f2()\n",
    "print(\"函式外：\", g)"
   ]
  },
  {
   "cell_type": "code",
   "execution_count": 17,
   "metadata": {},
   "outputs": [
    {
     "name": "stdout",
     "output_type": "stream",
     "text": [
      "函式內： 5\n",
      "函式內： 10\n",
      "函式外： 10\n"
     ]
    }
   ],
   "source": [
    "# 使用 global 指定全域變數\n",
    "\n",
    "g = 5\n",
    "def f2():\n",
    "    global g\n",
    "    print(\"函式內：\", g)  # 函式內變數 g 必須先被指定值，才能輸出，否則會產生錯誤\n",
    "    g = 10\n",
    "    print(\"函式內：\", g)\n",
    "    \n",
    "f2()\n",
    "print(\"函式外：\", g)"
   ]
  },
  {
   "cell_type": "markdown",
   "metadata": {},
   "source": [
    "# lambda 函式"
   ]
  },
  {
   "cell_type": "code",
   "execution_count": 18,
   "metadata": {},
   "outputs": [
    {
     "name": "stdout",
     "output_type": "stream",
     "text": [
      "請輸入長度：6\n",
      "請輸入寬度：8\n",
      "長方型面積為： 48\n"
     ]
    }
   ],
   "source": [
    "# lambda 函式\n",
    "\n",
    "area = lambda x,y : x*y\n",
    "a = int(input('請輸入長度：'))\n",
    "b = int(input('請輸入寬度：'))\n",
    "print('長方型面積為：', area(a,b))"
   ]
  },
  {
   "cell_type": "code",
   "execution_count": 19,
   "metadata": {},
   "outputs": [
    {
     "name": "stdout",
     "output_type": "stream",
     "text": [
      "10\n"
     ]
    }
   ],
   "source": [
    "# 判斷大小\n",
    "\n",
    "def max(m, n):\n",
    "    return m if m > n else n\n",
    "\n",
    "print(max(10, 3))"
   ]
  },
  {
   "cell_type": "code",
   "execution_count": 20,
   "metadata": {},
   "outputs": [
    {
     "name": "stdout",
     "output_type": "stream",
     "text": [
      "10\n"
     ]
    }
   ],
   "source": [
    "max = lambda m, n: m if m > n else n\n",
    "print(max(10, 3))"
   ]
  },
  {
   "cell_type": "code",
   "execution_count": null,
   "metadata": {},
   "outputs": [],
   "source": []
  }
 ],
 "metadata": {
  "kernelspec": {
   "display_name": "Python 3",
   "language": "python",
   "name": "python3"
  },
  "language_info": {
   "codemirror_mode": {
    "name": "ipython",
    "version": 3
   },
   "file_extension": ".py",
   "mimetype": "text/x-python",
   "name": "python",
   "nbconvert_exporter": "python",
   "pygments_lexer": "ipython3",
   "version": "3.7.3"
  }
 },
 "nbformat": 4,
 "nbformat_minor": 2
}
