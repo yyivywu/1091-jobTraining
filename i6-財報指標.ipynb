{
 "cells": [
  {
   "cell_type": "markdown",
   "metadata": {},
   "source": [
    "# 財報分析指標\n",
    "\n",
    "* 營業毛利 = 營業收入 - 營業成本\n",
    "* 毛利率(Profit margin) = 營業毛利 / 營業收入 x 100%\n",
    "* 營業利益 = 營業毛利 - 營業費用\n",
    "* 營業利益率(營益率、Operating Margin)：營業利益 / 營業收入 x 100%\n",
    "* 稅前純益 = 營業利益 + 業外收支\n",
    "* 純益率(Pre-Tax Income Margin) = 稅前純益 / 營業收入 x 100%"
   ]
  },
  {
   "cell_type": "code",
   "execution_count": 51,
   "metadata": {},
   "outputs": [],
   "source": [
    "import sqlite3, os\n",
    "import pandas as pd\n",
    "import matplotlib.pyplot as plt\n",
    "%matplotlib inline"
   ]
  },
  {
   "cell_type": "code",
   "execution_count": 2,
   "metadata": {},
   "outputs": [],
   "source": [
    "conn = sqlite3.connect(os.path.join('data', 'fs.db'))"
   ]
  },
  {
   "cell_type": "code",
   "execution_count": 1,
   "metadata": {},
   "outputs": [],
   "source": [
    "sid = input('請輸入股票代碼：')\n",
    "\n",
    "query = \"select * from income where sid=\"+sid\n",
    "df = pd.read_sql(query, conn, index_col=['sid','year','season'])\n",
    "\n",
    "if not len(df):\n",
    "    print('無此股票資料！')\n",
    "else:\n",
    "    print('資料已讀取！')"
   ]
  },
  {
   "cell_type": "code",
   "execution_count": 2,
   "metadata": {},
   "outputs": [],
   "source": [
    "df['營業毛利'] = df['營業收入合計'] - df['營業成本合計']\n",
    "df['營業利益'] = df['營業毛利'] - df['營業費用合計']\n",
    "df['稅前純益'] = df['營業利益'] + df['營業外收入及支出合計']\n",
    "df['毛利率'] = round(df['營業毛利'] / df['營業收入合計'] * 100, 2)\n",
    "df['營益率'] = round(df['營業利益'] / df['營業收入合計'] * 100, 2)\n",
    "df['純益率'] = round(df['稅前純益'] / df['營業收入合計'] * 100, 2)\n",
    "\n",
    "df.head(10)"
   ]
  },
  {
   "cell_type": "code",
   "execution_count": 3,
   "metadata": {},
   "outputs": [],
   "source": [
    "# 繪製財報三率圖\n",
    "\n",
    "plt.rcParams['figure.figsize'] = (12, 6) \n",
    "df['毛利率'].plot()\n",
    "df['營益率'].plot()\n",
    "df['純益率'].plot()\n",
    "plt.legend()"
   ]
  },
  {
   "cell_type": "code",
   "execution_count": 4,
   "metadata": {},
   "outputs": [],
   "source": [
    "df = df.reset_index()\n",
    "df.head(10)"
   ]
  },
  {
   "cell_type": "code",
   "execution_count": 5,
   "metadata": {},
   "outputs": [],
   "source": [
    "# 建立一個 figure 和一個 subplot\n",
    "fig, ax = plt.subplots(figsize=(15,7))\n",
    "df.groupby('year').plot(x='season', y='毛利率', ax=ax)\n",
    "plt.title('毛利率', fontsize=18)\n",
    "plt.legend(df.year.unique())\n",
    "\n",
    "fig, ax = plt.subplots(figsize=(15,7))\n",
    "df.groupby('year').plot(x='season', y='營益率', ax=ax)\n",
    "plt.title('營益率', fontsize=18)\n",
    "plt.legend(df.year.unique())\n",
    "\n",
    "fig, ax = plt.subplots(figsize=(15,7))\n",
    "df.groupby('year').plot(x='season', y='純益率', ax=ax)\n",
    "plt.title('純益率', fontsize=18)\n",
    "plt.legend(df.year.unique())"
   ]
  },
  {
   "cell_type": "code",
   "execution_count": 6,
   "metadata": {},
   "outputs": [],
   "source": [
    "# 建立一個 figure 和 3 個 subplot\n",
    "\n",
    "plt.rcParams['figure.figsize'] = (10, 8)\n",
    "fig, axes = plt.subplots(nrows=3, sharex=True)\n",
    "df.groupby('year').plot(x='season', y='毛利率', ax=axes[0], legend=None)\n",
    "axes[0].set_title('毛利率', fontsize=14)\n",
    "#axes[0].legend(df.year.unique())\n",
    "df.groupby('year').plot(x='season', y='營益率', ax=axes[1], legend=None)\n",
    "axes[1].set_title('營益率', fontsize=14)\n",
    "#axes[1].legend(df.year.unique())\n",
    "df.groupby('year').plot(x='season', y='純益率', ax=axes[2])\n",
    "axes[2].set_title('純益率', fontsize=14)\n",
    "axes[2].legend(df.year.unique())\n",
    "plt.tight_layout()"
   ]
  },
  {
   "cell_type": "markdown",
   "metadata": {},
   "source": [
    "# 本益比計算\n",
    "\n",
    "本益比(Price-to-Earning ratio)：股價／EPS"
   ]
  },
  {
   "cell_type": "code",
   "execution_count": 85,
   "metadata": {},
   "outputs": [],
   "source": [
    "conn1 = sqlite3.connect(os.path.join('data', 'data.db'))"
   ]
  },
  {
   "cell_type": "code",
   "execution_count": 7,
   "metadata": {},
   "outputs": [],
   "source": [
    "# 讀取股價資料\n",
    "\n",
    "query = \"select * from price where sid=\"+sid+\" and date between datetime('2019-01-01') and datetime('2019-12-31')\"\n",
    "price = pd.read_sql(query, conn1, index_col='date')\n",
    "\n",
    "price"
   ]
  },
  {
   "cell_type": "code",
   "execution_count": 8,
   "metadata": {},
   "outputs": [],
   "source": [
    "# 尋找全年最高價、最低價與平均價\n",
    "\n",
    "print('全年最高價：', price['收盤價'].max())\n",
    "print('全年最低價：', price['收盤價'].min())\n",
    "print('全年平均價：', round(price['收盤價'].mean(),2))"
   ]
  },
  {
   "cell_type": "code",
   "execution_count": 9,
   "metadata": {},
   "outputs": [],
   "source": [
    "# 讀取 eps 資料\n",
    "\n",
    "query = \"select * from income where sid=\"+sid+\" and year='108'\"\n",
    "eps = pd.read_sql(query, conn, index_col='season')\n",
    "\n",
    "eps"
   ]
  },
  {
   "cell_type": "code",
   "execution_count": 10,
   "metadata": {},
   "outputs": [],
   "source": [
    "# 計算全年 EPS\n",
    "\n",
    "total = eps.loc['04']['基本每股盈餘']\n",
    "# eps.基本每股盈餘\n",
    "# total = eps.基本每股盈餘.sum()\n",
    "total"
   ]
  },
  {
   "cell_type": "code",
   "execution_count": 11,
   "metadata": {},
   "outputs": [],
   "source": [
    "# 計算本益比\n",
    "\n",
    "print('最低本益比：', round(price['收盤價'].min()/total,2))\n",
    "print('最高本益比：', round(price['收盤價'].max()/total,2))\n",
    "print('平均本益比：', round(price['收盤價'].mean()/total,2))"
   ]
  },
  {
   "cell_type": "markdown",
   "metadata": {},
   "source": [
    "# 股價淨值比 - 資產負債表\n",
    "\n",
    "* 股價淨值比(Price-Book Ratio)：股價 / 每股淨值\n",
    "* 每股淨值 = 淨值 / 流通在外股數\n",
    "* 流通在外股數 = 普通股股本 / 10\n",
    "* 淨值 = 總資產 – 總負債 = 股東權益 (歸屬於母公司業主之權益合計)"
   ]
  },
  {
   "cell_type": "code",
   "execution_count": 12,
   "metadata": {},
   "outputs": [],
   "source": [
    "# 讀取資產負債表資料\n",
    "query = \"select * from bs where sid=\"+sid+\" and year='108'\"\n",
    "df = pd.read_sql(query, conn, index_col='season')\n",
    "print(df)\n",
    "\n",
    "# 讀取股價資料\n",
    "query = \"select * from price where sid=\"+sid+\" and date between datetime('2019-12-20') and datetime('2019-12-31')\"\n",
    "price = pd.read_sql(query, conn1, index_col='date')\n",
    "price"
   ]
  },
  {
   "cell_type": "code",
   "execution_count": 13,
   "metadata": {},
   "outputs": [],
   "source": [
    "股本 = df['普通股股本']['04']\n",
    "股東權益 = df['歸屬於母公司業主之權益合計']['04']\n",
    "股價 = price.iloc[-1]['收盤價']\n",
    "print('股本 =', 股本)\n",
    "print('股東權益 =', 股東權益)\n",
    "print('股價 =', 股價)"
   ]
  },
  {
   "cell_type": "code",
   "execution_count": 14,
   "metadata": {},
   "outputs": [],
   "source": [
    "# 計算股價淨值比\n",
    "\n",
    "PB = round(股價 / (股東權益 / (股本 / 10)), 2)\n",
    "print('股價淨值比 =', PB)"
   ]
  },
  {
   "cell_type": "markdown",
   "metadata": {},
   "source": [
    "# 找出某個特定欄位資料\n",
    "\n",
    "合約負債：https://www.youtube.com/watch?v=VcQzpecU9q8"
   ]
  },
  {
   "cell_type": "code",
   "execution_count": 15,
   "metadata": {},
   "outputs": [],
   "source": [
    "# 查詢合約負債資料\n",
    "\n",
    "query = \"select sid, year, season, 合約負債－流動 from bs\"\n",
    "#query = \"select sid, year, season, 合約負債－流動 from bs where 合約負債－流動 > 0\"\n",
    "df = pd.read_sql(query, conn, index_col=['sid', 'year','season'])\n",
    "\n",
    "df"
   ]
  },
  {
   "cell_type": "code",
   "execution_count": null,
   "metadata": {},
   "outputs": [],
   "source": []
  }
 ],
 "metadata": {
  "kernelspec": {
   "display_name": "Python 3",
   "language": "python",
   "name": "python3"
  },
  "language_info": {
   "codemirror_mode": {
    "name": "ipython",
    "version": 3
   },
   "file_extension": ".py",
   "mimetype": "text/x-python",
   "name": "python",
   "nbconvert_exporter": "python",
   "pygments_lexer": "ipython3",
   "version": "3.7.3"
  }
 },
 "nbformat": 4,
 "nbformat_minor": 2
}
