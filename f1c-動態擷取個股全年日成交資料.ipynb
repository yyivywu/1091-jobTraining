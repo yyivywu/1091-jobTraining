{
 "cells": [
  {
   "cell_type": "markdown",
   "metadata": {},
   "source": [
    "# 動態擷取台股單一個股全年日成交資訊及存檔\n",
    "\n",
    "資料來源：[台灣證券交易所/個股日成交資訊](https://www.twse.com.tw/zh/page/trading/exchange/STOCK_DAY.html)\n",
    "\n",
    "回傳資料網址：[Json 格式](https://www.twse.com.tw/exchangeReport/STOCK_DAY?response=json&date=20200101&stockNo=2330)、[HTML 格式](https://www.twse.com.tw/exchangeReport/STOCK_DAY?response=html&date=20200101&stockNo=2330)、[CSV 格式](https://www.twse.com.tw/exchangeReport/STOCK_DAY?response=csv&date=20200101&stockNo=2330)\n"
   ]
  },
  {
   "cell_type": "code",
   "execution_count": 2,
   "metadata": {},
   "outputs": [
    {
     "name": "stdout",
     "output_type": "stream",
     "text": [
      "請輸入個股代碼：2330\n",
      "請輸入西元年度(格式:2019)：2019\n"
     ]
    }
   ],
   "source": [
    "# 輸入股票代碼及年度\n",
    "\n",
    "stockNo = input('請輸入個股代碼：')\n",
    "year = input('請輸入西元年度(格式:2019)：')"
   ]
  },
  {
   "cell_type": "code",
   "execution_count": 3,
   "metadata": {},
   "outputs": [
    {
     "name": "stdout",
     "output_type": "stream",
     "text": [
      "https://www.twse.com.tw/exchangeReport/STOCK_DAY?response=json&date=20190101&stockNo=2330\n",
      "https://www.twse.com.tw/exchangeReport/STOCK_DAY?response=json&date=20190201&stockNo=2330\n",
      "https://www.twse.com.tw/exchangeReport/STOCK_DAY?response=json&date=20190301&stockNo=2330\n",
      "https://www.twse.com.tw/exchangeReport/STOCK_DAY?response=json&date=20190401&stockNo=2330\n",
      "https://www.twse.com.tw/exchangeReport/STOCK_DAY?response=json&date=20190501&stockNo=2330\n",
      "https://www.twse.com.tw/exchangeReport/STOCK_DAY?response=json&date=20190601&stockNo=2330\n",
      "https://www.twse.com.tw/exchangeReport/STOCK_DAY?response=json&date=20190701&stockNo=2330\n",
      "https://www.twse.com.tw/exchangeReport/STOCK_DAY?response=json&date=20190801&stockNo=2330\n",
      "https://www.twse.com.tw/exchangeReport/STOCK_DAY?response=json&date=20190901&stockNo=2330\n",
      "https://www.twse.com.tw/exchangeReport/STOCK_DAY?response=json&date=20191001&stockNo=2330\n",
      "https://www.twse.com.tw/exchangeReport/STOCK_DAY?response=json&date=20191101&stockNo=2330\n",
      "https://www.twse.com.tw/exchangeReport/STOCK_DAY?response=json&date=20191201&stockNo=2330\n"
     ]
    }
   ],
   "source": [
    "# 迴圈複習\n",
    "\n",
    "for i in range(1,13):\n",
    "    if i < 10:\n",
    "        m = '0'+str(i)\n",
    "    else:\n",
    "        m = str(i)\n",
    "    url = 'https://www.twse.com.tw/exchangeReport/STOCK_DAY?response=json&date='+year+m+'01&stockNo='+stockNo\n",
    "    print(url)"
   ]
  },
  {
   "cell_type": "markdown",
   "metadata": {},
   "source": [
    "# 完整程式碼"
   ]
  },
  {
   "cell_type": "code",
   "execution_count": 1,
   "metadata": {},
   "outputs": [
    {
     "name": "stdout",
     "output_type": "stream",
     "text": [
      "請輸入個股代碼：2330\n",
      "請輸入西元年度(格式:2019)：2019\n",
      "擷取 2330 2019 01 資料...\n",
      "擷取 2330 2019 02 資料...\n",
      "擷取 2330 2019 03 資料...\n",
      "擷取 2330 2019 04 資料...\n",
      "擷取 2330 2019 05 資料...\n",
      "擷取 2330 2019 06 資料...\n",
      "擷取 2330 2019 07 資料...\n",
      "擷取 2330 2019 08 資料...\n",
      "擷取 2330 2019 09 資料...\n",
      "擷取 2330 2019 10 資料...\n",
      "擷取 2330 2019 11 資料...\n",
      "擷取 2330 2019 12 資料...\n",
      "2330 2019 年日成交資料擷取完畢！\n"
     ]
    }
   ],
   "source": [
    "# 匯入套件\n",
    "import requests, json, csv, time\n",
    "\n",
    "# 輸入股票代碼及年度\n",
    "stockNo = input('請輸入個股代碼：')\n",
    "year = input('請輸入西元年度(格式:2019)：')\n",
    "\n",
    "# 一年12個月迴圈\n",
    "for i in range(1,13):\n",
    "    if i < 10:\n",
    "        m = '0'+str(i)\n",
    "    else:\n",
    "        m = str(i)\n",
    "    url = 'https://www.twse.com.tw/exchangeReport/STOCK_DAY?response=json&date='+year+m+'01&stockNo='+stockNo\n",
    "    print('擷取', stockNo, year, m, '資料...')\n",
    "\n",
    "    try:\n",
    "        data = requests.get(url)\n",
    "    except Exception as e:\n",
    "        print('**WARRN: 擷取失敗')\n",
    "        print('錯誤訊息', e)\n",
    "    else:\n",
    "        jdata = json.loads(data.text)  # json.loads 將 str 資料轉為 dict\n",
    "    \n",
    "        # 將資料寫入 csv 檔案\n",
    "        filename = 'stock-'+stockNo+'-'+year+'.csv'\n",
    "        f = open(filename, 'a', newline='', encoding='utf-8-sig')\n",
    "        writer = csv.writer(f)\n",
    "\n",
    "        if i == 1:  #第一次才需要寫欄位標題\n",
    "            writer.writerow(jdata['fields'])\n",
    "\n",
    "        for line in jdata['data']:\n",
    "            writer.writerow(line)\n",
    "\n",
    "        f.close()\n",
    "        \n",
    "    time.sleep(1)\n",
    "    \n",
    "print(stockNo, year, '年日成交資料擷取完畢！')"
   ]
  },
  {
   "cell_type": "code",
   "execution_count": null,
   "metadata": {},
   "outputs": [],
   "source": []
  }
 ],
 "metadata": {
  "kernelspec": {
   "display_name": "Python 3",
   "language": "python",
   "name": "python3"
  },
  "language_info": {
   "codemirror_mode": {
    "name": "ipython",
    "version": 3
   },
   "file_extension": ".py",
   "mimetype": "text/x-python",
   "name": "python",
   "nbconvert_exporter": "python",
   "pygments_lexer": "ipython3",
   "version": "3.7.3"
  }
 },
 "nbformat": 4,
 "nbformat_minor": 2
}
