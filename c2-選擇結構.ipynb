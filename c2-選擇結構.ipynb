{
 "cells": [
  {
   "cell_type": "markdown",
   "metadata": {},
   "source": [
    "# 單向選擇結構"
   ]
  },
  {
   "cell_type": "code",
   "execution_count": 5,
   "metadata": {},
   "outputs": [
    {
     "name": "stdout",
     "output_type": "stream",
     "text": [
      "請輸入你的分數80\n",
      "恭喜！你及格了！\n"
     ]
    }
   ],
   "source": [
    "score = int(input('請輸入你的分數'))\n",
    "if score >= 60:\n",
    "    print('恭喜！你及格了！')\n",
    "    \n",
    "if score < 60:\n",
    "    print('慘啊！你被當了！')"
   ]
  },
  {
   "cell_type": "markdown",
   "metadata": {},
   "source": [
    "# 雙向選擇結構"
   ]
  },
  {
   "cell_type": "code",
   "execution_count": 4,
   "metadata": {},
   "outputs": [
    {
     "name": "stdout",
     "output_type": "stream",
     "text": [
      "請輸入你的分數：50\n",
      "慘啊！你被當了！\n"
     ]
    }
   ],
   "source": [
    "score = int(input('請輸入你的分數：'))\n",
    "if score >= 60:\n",
    "    print('恭喜！你及格了！')\n",
    "else:\n",
    "    print('慘啊！你被當了！') "
   ]
  },
  {
   "cell_type": "code",
   "execution_count": 8,
   "metadata": {},
   "outputs": [
    {
     "name": "stdout",
     "output_type": "stream",
     "text": [
      "請輸入消費金額：1980\n",
      "未滿2000千不打折： 1980\n"
     ]
    }
   ],
   "source": [
    "# 購物範例練習 - 滿2000千打九折\n",
    "\n",
    "cost = int(input('請輸入消費金額：'))\n",
    "if cost >= 2000:\n",
    "    total = cost * 0.9\n",
    "    print('滿2000千打九折，打折後金額：', total)\n",
    "else:\n",
    "    print('未滿2000千不打折：', cost)"
   ]
  },
  {
   "cell_type": "code",
   "execution_count": 12,
   "metadata": {},
   "outputs": [
    {
     "name": "stdout",
     "output_type": "stream",
     "text": [
      "請輸入一個整數：29\n",
      "29 為奇數！\n"
     ]
    }
   ],
   "source": [
    "# 判斷奇偶數\n",
    "\n",
    "number = int(input('請輸入一個整數：'))\n",
    "if number % 2 == 0:\n",
    "    print(number, '為偶數！')\n",
    "else:\n",
    "    print(number, '為奇數！')"
   ]
  },
  {
   "cell_type": "markdown",
   "metadata": {},
   "source": [
    "# 多向選擇結構"
   ]
  },
  {
   "cell_type": "code",
   "execution_count": 15,
   "metadata": {},
   "outputs": [
    {
     "name": "stdout",
     "output_type": "stream",
     "text": [
      "請輸入你的分數：88\n",
      "乙等\n"
     ]
    }
   ],
   "source": [
    "# 判斷分數等級\n",
    "\n",
    "score = int(input('請輸入你的分數：'))\n",
    "\n",
    "if score >= 90:\n",
    "    print('甲等')\n",
    "elif score >= 80:\n",
    "    print('乙等')    \n",
    "elif score >= 70:\n",
    "    print('丙等')    \n",
    "elif score >= 60:\n",
    "    print('丁等')        \n",
    "else:\n",
    "    print('你被當了！')"
   ]
  },
  {
   "cell_type": "code",
   "execution_count": 20,
   "metadata": {},
   "outputs": [
    {
     "name": "stdout",
     "output_type": "stream",
     "text": [
      "請輸入郵件重量：3.5\n",
      "郵資為：50元\n"
     ]
    }
   ],
   "source": [
    "# 郵資計算\n",
    "\n",
    "w = float(input('請輸入郵件重量：'))\n",
    "\n",
    "if w <=5:\n",
    "    print('郵資為：50元')\n",
    "elif w <= 10:\n",
    "    print('郵資為：70元')\n",
    "elif w <=15:\n",
    "    print('郵資為：90元')\n",
    "elif w <= 20:\n",
    "    print('郵資為：110元')\n",
    "else:\n",
    "    print('超過 20 公斤無法寄送')"
   ]
  },
  {
   "cell_type": "code",
   "execution_count": 23,
   "metadata": {},
   "outputs": [
    {
     "name": "stdout",
     "output_type": "stream",
     "text": [
      "請輸入體重(公斤)：75\n",
      "請輸入身高(公尺)：1.6\n",
      "bmi= 29.30\n",
      "體重肥胖\n"
     ]
    }
   ],
   "source": [
    "# BMI 計算：體重(公斤) 除以 身高(公尺)的平方\n",
    "\n",
    "w = float(input('請輸入體重(公斤)：'))\n",
    "h = float(input('請輸入身高(公尺)：'))\n",
    "bmi = w / (h**2)\n",
    "print('bmi= %3.2f' % bmi)\n",
    "\n",
    "if bmi < 18:\n",
    "    print('體重過輕')\n",
    "elif bmi < 24:\n",
    "    print('體重正常')\n",
    "elif bmi < 27:\n",
    "    print('體重過重')\n",
    "else:\n",
    "    print('體重肥胖')"
   ]
  },
  {
   "cell_type": "code",
   "execution_count": null,
   "metadata": {},
   "outputs": [],
   "source": []
  }
 ],
 "metadata": {
  "kernelspec": {
   "display_name": "Python 3",
   "language": "python",
   "name": "python3"
  },
  "language_info": {
   "codemirror_mode": {
    "name": "ipython",
    "version": 3
   },
   "file_extension": ".py",
   "mimetype": "text/x-python",
   "name": "python",
   "nbconvert_exporter": "python",
   "pygments_lexer": "ipython3",
   "version": "3.7.3"
  }
 },
 "nbformat": 4,
 "nbformat_minor": 2
}
