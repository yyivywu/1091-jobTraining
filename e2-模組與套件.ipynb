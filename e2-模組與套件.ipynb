{
 "cells": [
  {
   "cell_type": "markdown",
   "metadata": {},
   "source": [
    "# 模組 Module\n",
    "\n",
    "模組就是 Python 檔案，每一個 Python 檔案被視為一個模組，可以在程式中匯入其他 Python 模組，模組就可以不斷被其他程式再利用\n",
    "\n",
    "## 匯入模組\n",
    "\n",
    "Pyton 提供四種匯入模組的方式\n",
    "\n",
    "### 語法1：\n",
    "    \n",
    "    import [module]"
   ]
  },
  {
   "cell_type": "code",
   "execution_count": 1,
   "metadata": {},
   "outputs": [
    {
     "name": "stdout",
     "output_type": "stream",
     "text": [
      "出拳為： 石頭\n",
      "亂數為： 10\n"
     ]
    }
   ],
   "source": [
    "import random\n",
    "\n",
    "status = ['剪刀', '石頭', '布']\n",
    "print(\"出拳為：\", random.choice(status))  # 隨機從變數 status 中挑選一個元素出來\n",
    "print(\"亂數為：\", random.randint(1, 10))  # 從 1-10 中隨機選一個整數"
   ]
  },
  {
   "cell_type": "code",
   "execution_count": 4,
   "metadata": {},
   "outputs": [
    {
     "name": "stdout",
     "output_type": "stream",
     "text": [
      "介於 0~60 的隨機數字 :  31\n"
     ]
    }
   ],
   "source": [
    "# 匯入整個模組\n",
    "\n",
    "import random\n",
    "\n",
    "print(\"介於 0~60 的隨機整數 : \", random.randint(0, 60))"
   ]
  },
  {
   "cell_type": "markdown",
   "metadata": {},
   "source": [
    "### 語法2：\n",
    "    \n",
    "    import [module] as [new_name]"
   ]
  },
  {
   "cell_type": "code",
   "execution_count": 7,
   "metadata": {},
   "outputs": [
    {
     "name": "stdout",
     "output_type": "stream",
     "text": [
      "介於 0~60 的隨機整數 :  22\n"
     ]
    }
   ],
   "source": [
    "# 使用別名匯入模組\n",
    "\n",
    "import random as rd\n",
    "\n",
    "print(\"介於 0~60 的隨機整數 : \", rd.randint(0, 60))"
   ]
  },
  {
   "cell_type": "markdown",
   "metadata": {},
   "source": [
    "### 語法3：\n",
    "    \n",
    "    from [module] import [name1, name2, ...]"
   ]
  },
  {
   "cell_type": "code",
   "execution_count": 6,
   "metadata": {},
   "outputs": [
    {
     "name": "stdout",
     "output_type": "stream",
     "text": [
      "介於 0~60 的隨機整數 :  44\n"
     ]
    }
   ],
   "source": [
    "# 只匯入模組中要使用的函式\n",
    "\n",
    "from random import randint\n",
    "\n",
    "print(\"介於 0~60 的隨機整數 : \", randint(0, 60))"
   ]
  },
  {
   "cell_type": "code",
   "execution_count": 2,
   "metadata": {},
   "outputs": [
    {
     "name": "stdout",
     "output_type": "stream",
     "text": [
      "出拳為： 石頭\n",
      "亂數為： 7\n"
     ]
    }
   ],
   "source": [
    "from random import randint, choice\n",
    "\n",
    "status = ['剪刀', '石頭', '布']\n",
    "print(\"出拳為：\", choice(status))  # 隨機從變數 status 中挑選一個元素出來\n",
    "print(\"亂數為：\", randint(1, 10))  # 從 1-10 中隨機選一個整數"
   ]
  },
  {
   "cell_type": "markdown",
   "metadata": {},
   "source": [
    "### 語法4 (不推薦此用法)：\n",
    "    \n",
    "    from [module] import *\n",
    "    \n",
    "此方式容易造成名稱衝突，降低程式可讀性和可維護性，故不建議使用"
   ]
  },
  {
   "cell_type": "code",
   "execution_count": 3,
   "metadata": {},
   "outputs": [
    {
     "name": "stdout",
     "output_type": "stream",
     "text": [
      "出拳為： 剪刀\n",
      "亂數為： 9\n"
     ]
    }
   ],
   "source": [
    "from random import *\n",
    "\n",
    "status = ['剪刀', '石頭', '布']\n",
    "print(\"出拳為：\", choice(status))  # 隨機從變數 status 中挑選一個元素出來\n",
    "print(\"亂數為：\", randint(1, 10))  # 從 1-10 中隨機選一個整數"
   ]
  },
  {
   "cell_type": "code",
   "execution_count": null,
   "metadata": {},
   "outputs": [],
   "source": [
    "# 尋找模組的路徑\n",
    "\n",
    "import sys\n",
    "\n",
    "for path in sys.path:\n",
    "    print(path)"
   ]
  },
  {
   "cell_type": "code",
   "execution_count": 12,
   "metadata": {},
   "outputs": [
    {
     "name": "stdout",
     "output_type": "stream",
     "text": [
      "請猜一個 1-99 間的整數：50\n",
      "請再猜小一點的數字！\n",
      "請猜一個 1-99 間的整數：25\n",
      "請再猜大一點的數字！\n",
      "請猜一個 1-99 間的整數：37\n",
      "請再猜小一點的數字！\n",
      "請猜一個 1-99 間的整數：31\n",
      "請再猜小一點的數字！\n",
      "請猜一個 1-99 間的整數：28\n",
      "請再猜大一點的數字！\n",
      "請猜一個 1-99 間的整數：29\n",
      "Bingo! 答對了！\n"
     ]
    }
   ],
   "source": [
    "# 猜數字，無法預先知道何時猜對，只能使用 while 迴圈\n",
    "\n",
    "import random\n",
    "target = random.randint(1, 99)   # 由系統隨機選出 1-99 中的一個整數\n",
    "\n",
    "guess = 0\n",
    "while guess != target:\n",
    "    guess = int(input(\"請猜一個 1-99 間的整數：\"))\n",
    "    if guess < target:\n",
    "        print(\"請再猜大一點的數字！\")\n",
    "    elif guess > target:\n",
    "        print(\"請再猜小一點的數字！\")\n",
    "    else:\n",
    "        print(\"Bingo! 答對了！\")"
   ]
  },
  {
   "cell_type": "code",
   "execution_count": null,
   "metadata": {},
   "outputs": [],
   "source": []
  }
 ],
 "metadata": {
  "kernelspec": {
   "display_name": "Python 3",
   "language": "python",
   "name": "python3"
  },
  "language_info": {
   "codemirror_mode": {
    "name": "ipython",
    "version": 3
   },
   "file_extension": ".py",
   "mimetype": "text/x-python",
   "name": "python",
   "nbconvert_exporter": "python",
   "pygments_lexer": "ipython3",
   "version": "3.7.3"
  }
 },
 "nbformat": 4,
 "nbformat_minor": 2
}
