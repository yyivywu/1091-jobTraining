{
 "cells": [
  {
   "cell_type": "markdown",
   "metadata": {},
   "source": [
    "# 投信買賣超彙總表"
   ]
  },
  {
   "cell_type": "code",
   "execution_count": 3,
   "metadata": {},
   "outputs": [
    {
     "name": "stdout",
     "output_type": "stream",
     "text": [
      "請輸入擷取日期（格式:20200207）：20200320\n",
      "成功擷取 20200320 資料！\n"
     ]
    }
   ],
   "source": [
    "import requests, json, csv\n",
    "\n",
    "date = input('請輸入擷取日期（格式:20200207）：')\n",
    "url = 'https://www.twse.com.tw/fund/TWT44U?response=json&date='+date\n",
    "\n",
    "try:\n",
    "    data = requests.get(url)\n",
    "except Exception as e:\n",
    "    print('**WARRN: 擷取失敗')\n",
    "    print('錯誤訊息', e)\n",
    "else:\n",
    "    jdata = json.loads(data.text)\n",
    "    f = open('投信買賣報表.csv', 'w', newline='')\n",
    "    writer = csv.writer(f)\n",
    "    writer.writerow(jdata['fields'])\n",
    "\n",
    "    for line in jdata['data']:\n",
    "        writer.writerow(line)\n",
    "\n",
    "    f.close()\n",
    "    \n",
    "    print('成功擷取', date, '資料！')"
   ]
  },
  {
   "cell_type": "code",
   "execution_count": null,
   "metadata": {},
   "outputs": [],
   "source": []
  }
 ],
 "metadata": {
  "kernelspec": {
   "display_name": "Python 3",
   "language": "python",
   "name": "python3"
  },
  "language_info": {
   "codemirror_mode": {
    "name": "ipython",
    "version": 3
   },
   "file_extension": ".py",
   "mimetype": "text/x-python",
   "name": "python",
   "nbconvert_exporter": "python",
   "pygments_lexer": "ipython3",
   "version": "3.7.3"
  }
 },
 "nbformat": 4,
 "nbformat_minor": 2
}
