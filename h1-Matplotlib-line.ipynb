{
 "cells": [
  {
   "cell_type": "markdown",
   "metadata": {},
   "source": [
    "# Matplotlib：Python 在 2D 繪圖領域最廣泛使用的模組\n",
    "\n",
    "官網：https://matplotlib.org/"
   ]
  },
  {
   "cell_type": "code",
   "execution_count": 1,
   "metadata": {},
   "outputs": [],
   "source": [
    "import matplotlib.pyplot as plt\n",
    "%matplotlib inline"
   ]
  },
  {
   "cell_type": "code",
   "execution_count": 2,
   "metadata": {},
   "outputs": [],
   "source": [
    "dot = [15,50,80,40,70,50]\n",
    "plt.plot(dot, color)\n",
    "plt.show()"
   ]
  },
  {
   "cell_type": "code",
   "execution_count": 3,
   "metadata": {},
   "outputs": [],
   "source": [
    "year = ['2015', '2016', '2017', '2018', '2019']\n",
    "yoy = [2.5, 1.8, 3.5, 3.2, 4.1]\n",
    "plt.plot(year, yoy)\n",
    "plt.show()"
   ]
  },
  {
   "cell_type": "code",
   "execution_count": 4,
   "metadata": {},
   "outputs": [],
   "source": [
    "# 在函式敍述按下 Shift+Tab，可觀看函式詳細資訊及參數值\n",
    "# 參數設定格式 fmt = '[marker][line][color]'\n",
    "\n",
    "plt.plot(year, yoy, color='red', marker='o', linestyle='-.', linewidth='3.0', markersize=8)\n",
    "#plt.plot(year, yoy, 'o-.r')  #紅色圓點及虛點線\n",
    "#plt.plot(year, yoy, 'bs')  #藍色方型點\n",
    "#plt.plot(year, yoy, '--g^')  #綠色三角型及虛線\n",
    "#plt.plot(year, yoy, 'o-.r', label='YoY')\n",
    "#plt.legend()\n",
    "\n",
    "plt.show()"
   ]
  },
  {
   "cell_type": "code",
   "execution_count": 5,
   "metadata": {},
   "outputs": [],
   "source": [
    "# 多條線\n",
    "year = ['2015', '2016', '2017', '2018', '2019']\n",
    "Q1 = [2.5, 1.8, 3.5, 3.2, 4.1]\n",
    "Q2 = [3.0, 2.1, 2.8, 3.5, 3.8]\n",
    "plt.plot(year, Q1, 'o-', label='Q1')\n",
    "plt.plot(year, Q2, 's--g', label='Q2')\n",
    "plt.legend()\n",
    "plt.show()"
   ]
  },
  {
   "cell_type": "code",
   "execution_count": null,
   "metadata": {},
   "outputs": [],
   "source": []
  }
 ],
 "metadata": {
  "kernelspec": {
   "display_name": "Python 3",
   "language": "python",
   "name": "python3"
  },
  "language_info": {
   "codemirror_mode": {
    "name": "ipython",
    "version": 3
   },
   "file_extension": ".py",
   "mimetype": "text/x-python",
   "name": "python",
   "nbconvert_exporter": "python",
   "pygments_lexer": "ipython3",
   "version": "3.7.3"
  }
 },
 "nbformat": 4,
 "nbformat_minor": 2
}
