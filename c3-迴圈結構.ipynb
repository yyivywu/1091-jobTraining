{
 "cells": [
  {
   "cell_type": "markdown",
   "metadata": {},
   "source": [
    "# 迴圈結構"
   ]
  },
  {
   "cell_type": "code",
   "execution_count": 4,
   "metadata": {},
   "outputs": [
    {
     "name": "stdout",
     "output_type": "stream",
     "text": [
      "1\n",
      "3\n",
      "5\n",
      "7\n",
      "9\n"
     ]
    }
   ],
   "source": [
    "# range 函式\n",
    "\n",
    "for i in range(1, 10, 2):\n",
    "    print (i)"
   ]
  },
  {
   "cell_type": "code",
   "execution_count": 5,
   "metadata": {},
   "outputs": [
    {
     "name": "stdout",
     "output_type": "stream",
     "text": [
      "請輸入起始值：1\n",
      "請輸入終止值：10\n",
      "請輸入增加值：2\n",
      "i 為  1 加總結果為  1\n",
      "i 為  3 加總結果為  4\n",
      "i 為  5 加總結果為  9\n",
      "i 為  7 加總結果為  16\n",
      "i 為  9 加總結果為  25\n"
     ]
    }
   ],
   "source": [
    "# 加總 - 使用 for\n",
    "\n",
    "s = int(input('請輸入起始值：'))\n",
    "e = int(input('請輸入終止值：'))\n",
    "inc = int(input('請輸入增加值：'))\n",
    "\n",
    "total = 0\n",
    "for i in range(s, e, inc):\n",
    "    total = total + i \n",
    "    print('i 為 ', i, '加總結果為 ', total)"
   ]
  },
  {
   "cell_type": "code",
   "execution_count": 12,
   "metadata": {},
   "outputs": [
    {
     "name": "stdout",
     "output_type": "stream",
     "text": [
      "請輸入起始值：1\n",
      "請輸入終止值：10\n",
      "請輸入增加值：2\n",
      "i 為  1 加總結果為  1\n",
      "i 為  3 加總結果為  4\n",
      "i 為  5 加總結果為  9\n",
      "i 為  7 加總結果為  16\n",
      "i 為  9 加總結果為  25\n"
     ]
    }
   ],
   "source": [
    "# 加總 - 使用 while\n",
    "\n",
    "s = int(input('請輸入起始值：'))\n",
    "e = int(input('請輸入終止值：'))\n",
    "inc = int(input('請輸入增加值：'))\n",
    "total = 0\n",
    "i = s\n",
    "while i < e:             # 終止值不進行加總\n",
    "    total = total + i   # 簡短寫法 sum += i\n",
    "    print('i 為 ', i, '加總結果為 ', total)\n",
    "    i = i + inc"
   ]
  },
  {
   "cell_type": "code",
   "execution_count": 15,
   "metadata": {},
   "outputs": [
    {
     "name": "stdout",
     "output_type": "stream",
     "text": [
      "請輸入一個整數：8\n",
      "平方和為： 204\n"
     ]
    }
   ],
   "source": [
    "# 求平方和\n",
    "\n",
    "n = int(input('請輸入一個整數：'))\n",
    "\n",
    "total = 0\n",
    "for i in range(n+1):\n",
    "    total += i**2\n",
    "print('平方和為：', total)"
   ]
  },
  {
   "cell_type": "code",
   "execution_count": 13,
   "metadata": {},
   "outputs": [
    {
     "name": "stdout",
     "output_type": "stream",
     "text": [
      "當整數為 8 時，平方和大於 150\n"
     ]
    }
   ],
   "source": [
    "# 判斷平方和\n",
    "\n",
    "total = 0\n",
    "i = 0\n",
    "\n",
    "while total <= 150:\n",
    "    i += 1\n",
    "    total += i ** 2\n",
    "    \n",
    "print('當整數為', i, '時，平方和大於 150')"
   ]
  },
  {
   "attachments": {},
   "cell_type": "markdown",
   "metadata": {},
   "source": [
    "# 複利計算\n",
    "\n",
    "複利 (Compound Interest) 公式：$FV = PV * (1+rate)^n$\n",
    "\n",
    "PV：本金、rate：年利率、n：期數，亦即存款年限：FV：本利和\n",
    "\n",
    "計算使用者於銀行中存入一筆固定金額，依照所輸入的利率及年限，計算定存到期的本利和"
   ]
  },
  {
   "cell_type": "code",
   "execution_count": 11,
   "metadata": {},
   "outputs": [
    {
     "name": "stdout",
     "output_type": "stream",
     "text": [
      "請輸入存款金額：120000\n",
      "請輸入存款年利率：10\n",
      "請輸入存款年限：8\n",
      "計算後複利為：  257231\n"
     ]
    }
   ],
   "source": [
    "PV = int(input('請輸入存款金額：'))\n",
    "rate = float(input('請輸入存款年利率：'))\n",
    "n = int(input('請輸入存款年限：'))\n",
    "\n",
    "FV = PV * (1 + rate / 100) ** n\n",
    "print('計算後複利為：%8.0f' % FV)"
   ]
  },
  {
   "attachments": {},
   "cell_type": "markdown",
   "metadata": {},
   "source": [
    "# 從本利和回推存款年限"
   ]
  },
  {
   "cell_type": "code",
   "execution_count": 29,
   "metadata": {},
   "outputs": [
    {
     "name": "stdout",
     "output_type": "stream",
     "text": [
      "請輸入存款金額：30000\n",
      "請輸入存款年利率：6\n",
      "請輸入獲利倍數：34\n",
      "61 年後存款金額為  1049009, 獲利 34 倍\n"
     ]
    }
   ],
   "source": [
    "PV = int(input('請輸入存款金額：'))\n",
    "rate = float(input('請輸入存款年利率：'))\n",
    "n = int(input('請輸入獲利倍數：'))\n",
    "\n",
    "FV = 0\n",
    "year = 0\n",
    "\n",
    "while FV < (PV*n):\n",
    "    year += 1\n",
    "    FV = PV * (1 + rate / 100) ** year\n",
    "    \n",
    "print('%d 年後存款金額為 %8.0f, 獲利 %d 倍' % (year, FV, n))"
   ]
  },
  {
   "cell_type": "markdown",
   "metadata": {},
   "source": [
    "# braek & continue"
   ]
  },
  {
   "cell_type": "code",
   "execution_count": 32,
   "metadata": {},
   "outputs": [
    {
     "name": "stdout",
     "output_type": "stream",
     "text": [
      "請輸入一個整數：5\n",
      "5 5\n",
      "請輸入一個整數：7\n",
      "7 12\n",
      "請輸入一個整數：6\n",
      "請輸入一個整數：8\n",
      "請輸入一個整數：19\n",
      "19 31\n",
      "請輸入一個整數：-1\n"
     ]
    }
   ],
   "source": [
    "# 奇數加總，偶數不加，使用者輸入 -1 結束\n",
    "\n",
    "total = 0\n",
    "while True:\n",
    "    n = int(input('請輸入一個整數：'))\n",
    "    if n == -1:\n",
    "        break\n",
    "        \n",
    "    if n % 2 == 0:\n",
    "        continue\n",
    "        \n",
    "    total += n\n",
    "    print(n, total)"
   ]
  },
  {
   "attachments": {},
   "cell_type": "markdown",
   "metadata": {},
   "source": [
    "# 巢狀迴圈"
   ]
  },
  {
   "cell_type": "code",
   "execution_count": 37,
   "metadata": {},
   "outputs": [
    {
     "name": "stdout",
     "output_type": "stream",
     "text": [
      "1x1=1\t1x2=2\t1x3=3\t1x4=4\t1x5=5\t1x6=6\t1x7=7\t1x8=8\t1x9=9\t\n",
      "2x1=2\t2x2=4\t2x3=6\t2x4=8\t2x5=10\t2x6=12\t2x7=14\t2x8=16\t2x9=18\t\n",
      "3x1=3\t3x2=6\t3x3=9\t3x4=12\t3x5=15\t3x6=18\t3x7=21\t3x8=24\t3x9=27\t\n",
      "4x1=4\t4x2=8\t4x3=12\t4x4=16\t4x5=20\t4x6=24\t4x7=28\t4x8=32\t4x9=36\t\n",
      "5x1=5\t5x2=10\t5x3=15\t5x4=20\t5x5=25\t5x6=30\t5x7=35\t5x8=40\t5x9=45\t\n",
      "6x1=6\t6x2=12\t6x3=18\t6x4=24\t6x5=30\t6x6=36\t6x7=42\t6x8=48\t6x9=54\t\n",
      "7x1=7\t7x2=14\t7x3=21\t7x4=28\t7x5=35\t7x6=42\t7x7=49\t7x8=56\t7x9=63\t\n",
      "8x1=8\t8x2=16\t8x3=24\t8x4=32\t8x5=40\t8x6=48\t8x7=56\t8x8=64\t8x9=72\t\n",
      "9x1=9\t9x2=18\t9x3=27\t9x4=36\t9x5=45\t9x6=54\t9x7=63\t9x8=72\t9x9=81\t\n"
     ]
    }
   ],
   "source": [
    "# 九九乘法表\n",
    "\n",
    "for i in range(1,10):\n",
    "    for j in range(1,10):\n",
    "        #print(i,'x', j, '=', i*j)\n",
    "        print(i,'x', j, '=', i*j, '\\t', sep='', end='')\n",
    "    print()"
   ]
  },
  {
   "attachments": {},
   "cell_type": "markdown",
   "metadata": {},
   "source": [
    "# 圖案輸出"
   ]
  },
  {
   "cell_type": "code",
   "execution_count": 46,
   "metadata": {},
   "outputs": [
    {
     "name": "stdout",
     "output_type": "stream",
     "text": [
      "請輸入一個整數：6\n",
      "*\n",
      "**\n",
      "***\n",
      "****\n",
      "*****\n",
      "******\n"
     ]
    }
   ],
   "source": [
    "n = int(input('請輸入行數: '))\n",
    "for i in range(1,n+1):\n",
    "    for j in range(i):\n",
    "        print('*', end='')\n",
    "    print()"
   ]
  },
  {
   "cell_type": "code",
   "execution_count": 47,
   "metadata": {},
   "outputs": [
    {
     "name": "stdout",
     "output_type": "stream",
     "text": [
      "請輸入一個整數：5\n",
      "    *\n",
      "   **\n",
      "  ***\n",
      " ****\n",
      "*****\n"
     ]
    }
   ],
   "source": [
    "n = int(input('請輸入行數: '))\n",
    "for i in range(1,n+1):\n",
    "    for j in range(n-i):\n",
    "        print(' ', end='')\n",
    "    for j in range(i):\n",
    "        print('*', end='')\n",
    "    print()"
   ]
  },
  {
   "cell_type": "code",
   "execution_count": 50,
   "metadata": {},
   "outputs": [
    {
     "name": "stdout",
     "output_type": "stream",
     "text": [
      "請輸入行數: 5\n",
      "    *\n",
      "   **\n",
      "  ***\n",
      " ****\n",
      "*****\n"
     ]
    }
   ],
   "source": [
    "n = int(input('請輸入行數: '))\n",
    "for i in range(1,n+1):\n",
    "    for j in range(n):\n",
    "        if j < n-i:\n",
    "            print(' ', end='')\n",
    "        else:\n",
    "            print('*', end='')\n",
    "    print()"
   ]
  },
  {
   "cell_type": "code",
   "execution_count": 49,
   "metadata": {},
   "outputs": [
    {
     "name": "stdout",
     "output_type": "stream",
     "text": [
      "請輸入一個整數：5\n",
      "    *\n",
      "   ***\n",
      "  *****\n",
      " *******\n",
      "*********\n"
     ]
    }
   ],
   "source": [
    "n = int(input('請輸入行數: '))\n",
    "for i in range(1,n+1):\n",
    "    for j in range(n-i):\n",
    "        print(' ', end='')\n",
    "    for j in range(i*2-1):\n",
    "        print('*', end='')\n",
    "    print()"
   ]
  },
  {
   "cell_type": "code",
   "execution_count": null,
   "metadata": {},
   "outputs": [],
   "source": []
  }
 ],
 "metadata": {
  "kernelspec": {
   "display_name": "Python 3",
   "language": "python",
   "name": "python3"
  },
  "language_info": {
   "codemirror_mode": {
    "name": "ipython",
    "version": 3
   },
   "file_extension": ".py",
   "mimetype": "text/x-python",
   "name": "python",
   "nbconvert_exporter": "python",
   "pygments_lexer": "ipython3",
   "version": "3.7.3"
  }
 },
 "nbformat": 4,
 "nbformat_minor": 2
}
