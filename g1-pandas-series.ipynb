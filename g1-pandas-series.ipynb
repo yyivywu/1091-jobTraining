{
 "cells": [
  {
   "cell_type": "markdown",
   "metadata": {},
   "source": [
    "# Pandas 套件－資料分析必學入門\n",
    "* Pandas 之於 Python，就好比 Excel 之於 Windows\n",
    "* 主要用於大數據分析、機器學習、時間序列分析等\n",
    "\n",
    "### Pandas主要有兩大資料結構：\n",
    "* Series 欄位 (一維度)：由 index (譬如：時間，稱為時間曲線 Time series) 及數值組成的一條序列\n",
    "* DataFrame 表格 (二維度)：N 條 series 共用同一個 index\n",
    "\n",
    "Pandas 官方文件：[網站](https://pandas.pydata.org/pandas-docs/stable/reference/api/pandas.Series.html)"
   ]
  },
  {
   "cell_type": "code",
   "execution_count": 1,
   "metadata": {},
   "outputs": [],
   "source": [
    "import pandas as pd"
   ]
  },
  {
   "cell_type": "code",
   "execution_count": 1,
   "metadata": {},
   "outputs": [],
   "source": [
    "# 獲得版本資訊\n",
    "\n",
    "print(pd.__version__)"
   ]
  },
  {
   "cell_type": "code",
   "execution_count": 2,
   "metadata": {},
   "outputs": [],
   "source": [
    "#利用 pd.Series 函式創建一個 Series 物件，參數為 list 串列\n",
    "\n",
    "list1 = [1,2,3,4,5]\n",
    "s1 = pd.Series(list1)\n",
    "print(type(s1))\n",
    "print(s1)  #索引從 0 開始"
   ]
  },
  {
   "cell_type": "code",
   "execution_count": 3,
   "metadata": {},
   "outputs": [],
   "source": [
    "#使用 index 參數指定索引\n",
    "\n",
    "sid = ['1101', '1301', '2317', '2330', '2884']\n",
    "sname = ['台泥', '台塑', '鴻海', '台積電', '玉山金']\n",
    "stock = pd.Series(sname, index=sid)  \n",
    "print(stock.index)\n",
    "print(stock.values)"
   ]
  },
  {
   "cell_type": "code",
   "execution_count": 4,
   "metadata": {},
   "outputs": [],
   "source": [
    "# 使用 date_range 自動產生時間索引值\n",
    "\n",
    "date = pd.date_range('20200301', periods=7)\n",
    "#print(date)\n",
    "s3 = pd.Series([1, 2, 3, 4, 5, 6, 7], index=date)\n",
    "s3"
   ]
  },
  {
   "cell_type": "code",
   "execution_count": 5,
   "metadata": {},
   "outputs": [],
   "source": [
    "# 全部為 0 的時間序列\n",
    "s4 = pd.Series(0, index=date)\n",
    "s4"
   ]
  },
  {
   "cell_type": "markdown",
   "metadata": {},
   "source": [
    "# 查找資料\n",
    "\n",
    "* loc[]：使用索引值 (index)\n",
    "* iloc[]：使用資料存放的位置"
   ]
  },
  {
   "cell_type": "code",
   "execution_count": 6,
   "metadata": {},
   "outputs": [],
   "source": [
    "print(s3.loc['20200302'])\n",
    "print(s3.loc['20200302':'20200304'])\n",
    "print(s3.iloc[3])\n",
    "print(s3.iloc[0:4])"
   ]
  },
  {
   "cell_type": "code",
   "execution_count": 7,
   "metadata": {},
   "outputs": [],
   "source": [
    "# Series 常用函式\n",
    "\n",
    "print(s3)\n",
    "print(s3.max())  # 最大值\n",
    "print(s3.min())  # 最小值\n",
    "print(s3.mean()) # 平均數\n",
    "print(s3.std())  # 標準差"
   ]
  },
  {
   "cell_type": "code",
   "execution_count": 8,
   "metadata": {},
   "outputs": [],
   "source": [
    "# Series 常用函式\n",
    "\n",
    "print(s3)\n",
    "print(s3.cumsum())\n",
    "print(s3.cumprod())"
   ]
  },
  {
   "cell_type": "code",
   "execution_count": 9,
   "metadata": {},
   "outputs": [],
   "source": [
    "# 移動窗格\n",
    "\n",
    "print(s3)\n",
    "#print(s3.rolling(2).sum())  #移動窗格2\n",
    "#print(s3.rolling(3).max())  #移動窗格3\n",
    "#print(s3.rolling(3).min())\n",
    "#print(s3.rolling(2).mean())\n",
    "#print(s3.rolling(2).std())"
   ]
  },
  {
   "cell_type": "code",
   "execution_count": 10,
   "metadata": {},
   "outputs": [],
   "source": [
    "# Series 的運算\n",
    "\n",
    "print(s3)\n",
    "s3 + 1\n",
    "#s3 - 1\n",
    "#s3 * 2\n",
    "#s3 / 2\n",
    "#s3 > 3\n",
    "#s3 < 3\n",
    "#s3[s3>3]"
   ]
  },
  {
   "cell_type": "markdown",
   "metadata": {},
   "source": [
    "# 綜合應用"
   ]
  },
  {
   "cell_type": "code",
   "execution_count": 11,
   "metadata": {},
   "outputs": [],
   "source": [
    "#s3.loc[s3>3] = s3.loc[s3>3] + 1\n",
    "s3[s3>3] = s3[s3>3] + 1\n",
    "s3"
   ]
  },
  {
   "cell_type": "code",
   "execution_count": 12,
   "metadata": {},
   "outputs": [],
   "source": [
    "(s3.rolling(2).sum().cumsum() + 1).max()\n",
    "\n",
    "# temp = s3.rolling(2).sum()\n",
    "# print(temp)\n",
    "# temp1 = temp.cumsum()\n",
    "# print(temp1)\n",
    "# (temp1+1).max()"
   ]
  },
  {
   "cell_type": "code",
   "execution_count": 13,
   "metadata": {},
   "outputs": [],
   "source": [
    "((s3 + 2).cumprod() + 4).min()\n",
    "\n",
    "# print(s3+2)\n",
    "# temp = (s3 + 2).cumprod()\n",
    "# print(temp)\n",
    "# (temp+ 4).min()"
   ]
  },
  {
   "cell_type": "code",
   "execution_count": null,
   "metadata": {},
   "outputs": [],
   "source": []
  }
 ],
 "metadata": {
  "kernelspec": {
   "display_name": "Python 3",
   "language": "python",
   "name": "python3"
  },
  "language_info": {
   "codemirror_mode": {
    "name": "ipython",
    "version": 3
   },
   "file_extension": ".py",
   "mimetype": "text/x-python",
   "name": "python",
   "nbconvert_exporter": "python",
   "pygments_lexer": "ipython3",
   "version": "3.7.3"
  }
 },
 "nbformat": 4,
 "nbformat_minor": 2
}
